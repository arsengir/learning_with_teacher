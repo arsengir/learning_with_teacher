{
 "cells": [
  {
   "cell_type": "markdown",
   "metadata": {
    "toc": true
   },
   "source": [
    "<h1>Содержание<span class=\"tocSkip\"></span></h1>\n",
    "<div class=\"toc\"><ul class=\"toc-item\"><li><span><a href=\"#Подготовка-данных\" data-toc-modified-id=\"Подготовка-данных-1\"><span class=\"toc-item-num\">1&nbsp;&nbsp;</span>Подготовка данных</a></span><ul class=\"toc-item\"><li><span><a href=\"#Вывод\" data-toc-modified-id=\"Вывод-1.1\"><span class=\"toc-item-num\">1.1&nbsp;&nbsp;</span>Вывод</a></span></li></ul></li><li><span><a href=\"#Исследование-задачи\" data-toc-modified-id=\"Исследование-задачи-2\"><span class=\"toc-item-num\">2&nbsp;&nbsp;</span>Исследование задачи</a></span><ul class=\"toc-item\"><li><span><a href=\"#Разделение-выборки\" data-toc-modified-id=\"Разделение-выборки-2.1\"><span class=\"toc-item-num\">2.1&nbsp;&nbsp;</span>Разделение выборки</a></span></li><li><span><a href=\"#Модель-RandomForestClassifier\" data-toc-modified-id=\"Модель-RandomForestClassifier-2.2\"><span class=\"toc-item-num\">2.2&nbsp;&nbsp;</span>Модель RandomForestClassifier</a></span></li><li><span><a href=\"#Модель-DecisionTreeClassifier\" data-toc-modified-id=\"Модель-DecisionTreeClassifier-2.3\"><span class=\"toc-item-num\">2.3&nbsp;&nbsp;</span>Модель DecisionTreeClassifier</a></span></li><li><span><a href=\"#Модель-LogisticRegression\" data-toc-modified-id=\"Модель-LogisticRegression-2.4\"><span class=\"toc-item-num\">2.4&nbsp;&nbsp;</span>Модель LogisticRegression</a></span></li><li><span><a href=\"#Вывод\" data-toc-modified-id=\"Вывод-2.5\"><span class=\"toc-item-num\">2.5&nbsp;&nbsp;</span>Вывод</a></span></li></ul></li><li><span><a href=\"#Борьба-с-дисбалансом\" data-toc-modified-id=\"Борьба-с-дисбалансом-3\"><span class=\"toc-item-num\">3&nbsp;&nbsp;</span>Борьба с дисбалансом</a></span><ul class=\"toc-item\"><li><span><a href=\"#Взвешивание-классов\" data-toc-modified-id=\"Взвешивание-классов-3.1\"><span class=\"toc-item-num\">3.1&nbsp;&nbsp;</span>Взвешивание классов</a></span></li><li><span><a href=\"#Увеличение-выборки-(upsampling)\" data-toc-modified-id=\"Увеличение-выборки-(upsampling)-3.2\"><span class=\"toc-item-num\">3.2&nbsp;&nbsp;</span>Увеличение выборки (upsampling)</a></span></li><li><span><a href=\"#Уменьшение-выборки-(downsampling)\" data-toc-modified-id=\"Уменьшение-выборки-(downsampling)-3.3\"><span class=\"toc-item-num\">3.3&nbsp;&nbsp;</span>Уменьшение выборки (downsampling)</a></span></li><li><span><a href=\"#Вывод\" data-toc-modified-id=\"Вывод-3.4\"><span class=\"toc-item-num\">3.4&nbsp;&nbsp;</span>Вывод</a></span></li></ul></li><li><span><a href=\"#Тестирование-модели\" data-toc-modified-id=\"Тестирование-модели-4\"><span class=\"toc-item-num\">4&nbsp;&nbsp;</span>Тестирование модели</a></span><ul class=\"toc-item\"><li><span><a href=\"#Проверка-на-адекватность-модели\" data-toc-modified-id=\"Проверка-на-адекватность-модели-4.1\"><span class=\"toc-item-num\">4.1&nbsp;&nbsp;</span>Проверка на адекватность модели</a></span></li><li><span><a href=\"#Вывод\" data-toc-modified-id=\"Вывод-4.2\"><span class=\"toc-item-num\">4.2&nbsp;&nbsp;</span>Вывод</a></span></li></ul></li><li><span><a href=\"#Общий-вывод\" data-toc-modified-id=\"Общий-вывод-5\"><span class=\"toc-item-num\">5&nbsp;&nbsp;</span>Общий вывод</a></span></li><li><span><a href=\"#Чек-лист-готовности-проекта\" data-toc-modified-id=\"Чек-лист-готовности-проекта-6\"><span class=\"toc-item-num\">6&nbsp;&nbsp;</span>Чек-лист готовности проекта</a></span></li></ul></div>"
   ]
  },
  {
   "cell_type": "markdown",
   "metadata": {},
   "source": [
    "# Отток клиентов"
   ]
  },
  {
   "cell_type": "markdown",
   "metadata": {},
   "source": [
    "Из «Бета-Банка» стали уходить клиенты. Каждый месяц. Немного, но заметно. Банковские маркетологи посчитали: сохранять текущих клиентов дешевле, чем привлекать новых.\n",
    "\n",
    "Нужно спрогнозировать, уйдёт клиент из банка в ближайшее время или нет. Вам предоставлены исторические данные о поведении клиентов и расторжении договоров с банком. \n",
    "\n",
    "Постройте модель с предельно большим значением *F1*-меры. Чтобы сдать проект успешно, нужно довести метрику до 0.59. Проверьте *F1*-меру на тестовой выборке самостоятельно.\n",
    "\n",
    "Дополнительно измеряйте *AUC-ROC*, сравнивайте её значение с *F1*-мерой.\n",
    "\n",
    "Источник данных: [https://www.kaggle.com/barelydedicated/bank-customer-churn-modeling](https://www.kaggle.com/barelydedicated/bank-customer-churn-modeling)\n",
    "\n",
    "Признаки  \n",
    "`RowNumber` — индекс строки в данных  \n",
    "`CustomerId` — уникальный идентификатор клиента  \n",
    "`Surname` — фамилия  \n",
    "`CreditScore` — кредитный рейтинг  \n",
    "`Geography` — страна проживания  \n",
    "`Gender` — пол  \n",
    "`Age` — возраст  \n",
    "`Tenure` — сколько лет человек является клиентом банка  \n",
    "`Balance` — баланс на счёте  \n",
    "`NumOfProducts` — количество продуктов банка, используемых клиентом  \n",
    "`HasCrCard` — наличие кредитной карты  \n",
    "`IsActiveMember` — активность клиента  \n",
    "`EstimatedSalary` — предполагаемая зарплата  \n",
    "\n",
    "Целевой признак  \n",
    "`Exited` — факт ухода клиента  "
   ]
  },
  {
   "cell_type": "markdown",
   "metadata": {},
   "source": [
    "Ссылка на репозиторий проекта: [https://github.com/arsengir/learning_with_teacher](https://github.com/arsengir/learning_with_teacher)\n"
   ]
  },
  {
   "cell_type": "code",
   "execution_count": 2,
   "metadata": {},
   "outputs": [
    {
     "name": "stdout",
     "output_type": "stream",
     "text": [
      "Requirement already satisfied: scikit-learn==1.1.3 in c:\\users\\amate\\anaconda3\\envs\\practicum\\lib\\site-packages (1.1.3)\n",
      "Requirement already satisfied: numpy>=1.17.3 in c:\\users\\amate\\anaconda3\\envs\\practicum\\lib\\site-packages (from scikit-learn==1.1.3) (1.20.1)\n",
      "Requirement already satisfied: threadpoolctl>=2.0.0 in c:\\users\\amate\\anaconda3\\envs\\practicum\\lib\\site-packages (from scikit-learn==1.1.3) (3.1.0)\n",
      "Requirement already satisfied: scipy>=1.3.2 in c:\\users\\amate\\anaconda3\\envs\\practicum\\lib\\site-packages (from scikit-learn==1.1.3) (1.8.0)\n",
      "Requirement already satisfied: joblib>=1.0.0 in c:\\users\\amate\\anaconda3\\envs\\practicum\\lib\\site-packages (from scikit-learn==1.1.3) (1.2.0)\n"
     ]
    }
   ],
   "source": [
    "!pip install scikit-learn==1.1.3"
   ]
  },
  {
   "cell_type": "code",
   "execution_count": 2,
   "metadata": {},
   "outputs": [],
   "source": [
    "import pandas as pd\n",
    "import re\n",
    "import matplotlib.pyplot as plt\n",
    "\n",
    "from sklearn.model_selection import train_test_split, GridSearchCV\n",
    "from sklearn.preprocessing import StandardScaler, OneHotEncoder\n",
    "from sklearn.ensemble import RandomForestClassifier\n",
    "from sklearn.tree import DecisionTreeClassifier\n",
    "from sklearn.linear_model import LogisticRegression\n",
    "from sklearn.utils import shuffle\n",
    "from sklearn.metrics import (precision_score, \n",
    "                             recall_score,\n",
    "                             f1_score,\n",
    "                             confusion_matrix,\n",
    "                             roc_curve,\n",
    "                             roc_auc_score)\n",
    "from sklearn.dummy import DummyClassifier\n",
    "\n",
    "\n",
    "RANDOM_STATE = 42"
   ]
  },
  {
   "cell_type": "markdown",
   "metadata": {},
   "source": [
    "## Подготовка данных"
   ]
  },
  {
   "cell_type": "markdown",
   "metadata": {},
   "source": [
    "Путь к файлу: /datasets/Churn.csv"
   ]
  },
  {
   "cell_type": "code",
   "execution_count": 3,
   "metadata": {},
   "outputs": [],
   "source": [
    "df = pd.read_csv('/datasets/Churn.csv')"
   ]
  },
  {
   "cell_type": "markdown",
   "metadata": {},
   "source": [
    "Посмотрим общую информацию"
   ]
  },
  {
   "cell_type": "code",
   "execution_count": 4,
   "metadata": {},
   "outputs": [
    {
     "name": "stdout",
     "output_type": "stream",
     "text": [
      "<class 'pandas.core.frame.DataFrame'>\n",
      "RangeIndex: 10000 entries, 0 to 9999\n",
      "Data columns (total 14 columns):\n",
      " #   Column           Non-Null Count  Dtype  \n",
      "---  ------           --------------  -----  \n",
      " 0   RowNumber        10000 non-null  int64  \n",
      " 1   CustomerId       10000 non-null  int64  \n",
      " 2   Surname          10000 non-null  object \n",
      " 3   CreditScore      10000 non-null  int64  \n",
      " 4   Geography        10000 non-null  object \n",
      " 5   Gender           10000 non-null  object \n",
      " 6   Age              10000 non-null  int64  \n",
      " 7   Tenure           9091 non-null   float64\n",
      " 8   Balance          10000 non-null  float64\n",
      " 9   NumOfProducts    10000 non-null  int64  \n",
      " 10  HasCrCard        10000 non-null  int64  \n",
      " 11  IsActiveMember   10000 non-null  int64  \n",
      " 12  EstimatedSalary  10000 non-null  float64\n",
      " 13  Exited           10000 non-null  int64  \n",
      "dtypes: float64(3), int64(8), object(3)\n",
      "memory usage: 1.1+ MB\n"
     ]
    }
   ],
   "source": [
    "df.info()"
   ]
  },
  {
   "cell_type": "code",
   "execution_count": 5,
   "metadata": {},
   "outputs": [
    {
     "data": {
      "text/html": [
       "<div>\n",
       "<style scoped>\n",
       "    .dataframe tbody tr th:only-of-type {\n",
       "        vertical-align: middle;\n",
       "    }\n",
       "\n",
       "    .dataframe tbody tr th {\n",
       "        vertical-align: top;\n",
       "    }\n",
       "\n",
       "    .dataframe thead th {\n",
       "        text-align: right;\n",
       "    }\n",
       "</style>\n",
       "<table border=\"1\" class=\"dataframe\">\n",
       "  <thead>\n",
       "    <tr style=\"text-align: right;\">\n",
       "      <th></th>\n",
       "      <th>RowNumber</th>\n",
       "      <th>CustomerId</th>\n",
       "      <th>Surname</th>\n",
       "      <th>CreditScore</th>\n",
       "      <th>Geography</th>\n",
       "      <th>Gender</th>\n",
       "      <th>Age</th>\n",
       "      <th>Tenure</th>\n",
       "      <th>Balance</th>\n",
       "      <th>NumOfProducts</th>\n",
       "      <th>HasCrCard</th>\n",
       "      <th>IsActiveMember</th>\n",
       "      <th>EstimatedSalary</th>\n",
       "      <th>Exited</th>\n",
       "    </tr>\n",
       "  </thead>\n",
       "  <tbody>\n",
       "    <tr>\n",
       "      <th>0</th>\n",
       "      <td>1</td>\n",
       "      <td>15634602</td>\n",
       "      <td>Hargrave</td>\n",
       "      <td>619</td>\n",
       "      <td>France</td>\n",
       "      <td>Female</td>\n",
       "      <td>42</td>\n",
       "      <td>2.0</td>\n",
       "      <td>0.00</td>\n",
       "      <td>1</td>\n",
       "      <td>1</td>\n",
       "      <td>1</td>\n",
       "      <td>101348.88</td>\n",
       "      <td>1</td>\n",
       "    </tr>\n",
       "    <tr>\n",
       "      <th>1</th>\n",
       "      <td>2</td>\n",
       "      <td>15647311</td>\n",
       "      <td>Hill</td>\n",
       "      <td>608</td>\n",
       "      <td>Spain</td>\n",
       "      <td>Female</td>\n",
       "      <td>41</td>\n",
       "      <td>1.0</td>\n",
       "      <td>83807.86</td>\n",
       "      <td>1</td>\n",
       "      <td>0</td>\n",
       "      <td>1</td>\n",
       "      <td>112542.58</td>\n",
       "      <td>0</td>\n",
       "    </tr>\n",
       "    <tr>\n",
       "      <th>2</th>\n",
       "      <td>3</td>\n",
       "      <td>15619304</td>\n",
       "      <td>Onio</td>\n",
       "      <td>502</td>\n",
       "      <td>France</td>\n",
       "      <td>Female</td>\n",
       "      <td>42</td>\n",
       "      <td>8.0</td>\n",
       "      <td>159660.80</td>\n",
       "      <td>3</td>\n",
       "      <td>1</td>\n",
       "      <td>0</td>\n",
       "      <td>113931.57</td>\n",
       "      <td>1</td>\n",
       "    </tr>\n",
       "    <tr>\n",
       "      <th>3</th>\n",
       "      <td>4</td>\n",
       "      <td>15701354</td>\n",
       "      <td>Boni</td>\n",
       "      <td>699</td>\n",
       "      <td>France</td>\n",
       "      <td>Female</td>\n",
       "      <td>39</td>\n",
       "      <td>1.0</td>\n",
       "      <td>0.00</td>\n",
       "      <td>2</td>\n",
       "      <td>0</td>\n",
       "      <td>0</td>\n",
       "      <td>93826.63</td>\n",
       "      <td>0</td>\n",
       "    </tr>\n",
       "    <tr>\n",
       "      <th>4</th>\n",
       "      <td>5</td>\n",
       "      <td>15737888</td>\n",
       "      <td>Mitchell</td>\n",
       "      <td>850</td>\n",
       "      <td>Spain</td>\n",
       "      <td>Female</td>\n",
       "      <td>43</td>\n",
       "      <td>2.0</td>\n",
       "      <td>125510.82</td>\n",
       "      <td>1</td>\n",
       "      <td>1</td>\n",
       "      <td>1</td>\n",
       "      <td>79084.10</td>\n",
       "      <td>0</td>\n",
       "    </tr>\n",
       "  </tbody>\n",
       "</table>\n",
       "</div>"
      ],
      "text/plain": [
       "   RowNumber  CustomerId   Surname  CreditScore Geography  Gender  Age  \\\n",
       "0          1    15634602  Hargrave          619    France  Female   42   \n",
       "1          2    15647311      Hill          608     Spain  Female   41   \n",
       "2          3    15619304      Onio          502    France  Female   42   \n",
       "3          4    15701354      Boni          699    France  Female   39   \n",
       "4          5    15737888  Mitchell          850     Spain  Female   43   \n",
       "\n",
       "   Tenure    Balance  NumOfProducts  HasCrCard  IsActiveMember  \\\n",
       "0     2.0       0.00              1          1               1   \n",
       "1     1.0   83807.86              1          0               1   \n",
       "2     8.0  159660.80              3          1               0   \n",
       "3     1.0       0.00              2          0               0   \n",
       "4     2.0  125510.82              1          1               1   \n",
       "\n",
       "   EstimatedSalary  Exited  \n",
       "0        101348.88       1  \n",
       "1        112542.58       0  \n",
       "2        113931.57       1  \n",
       "3         93826.63       0  \n",
       "4         79084.10       0  "
      ]
     },
     "execution_count": 5,
     "metadata": {},
     "output_type": "execute_result"
    }
   ],
   "source": [
    "df.head()"
   ]
  },
  {
   "cell_type": "markdown",
   "metadata": {},
   "source": [
    "Приведем название столбцов к хорошему стилю"
   ]
  },
  {
   "cell_type": "code",
   "execution_count": 6,
   "metadata": {},
   "outputs": [
    {
     "name": "stdout",
     "output_type": "stream",
     "text": [
      "<class 'pandas.core.frame.DataFrame'>\n",
      "RangeIndex: 10000 entries, 0 to 9999\n",
      "Data columns (total 14 columns):\n",
      " #   Column            Non-Null Count  Dtype  \n",
      "---  ------            --------------  -----  \n",
      " 0   row_number        10000 non-null  int64  \n",
      " 1   customer_id       10000 non-null  int64  \n",
      " 2   surname           10000 non-null  object \n",
      " 3   credit_score      10000 non-null  int64  \n",
      " 4   geography         10000 non-null  object \n",
      " 5   gender            10000 non-null  object \n",
      " 6   age               10000 non-null  int64  \n",
      " 7   tenure            9091 non-null   float64\n",
      " 8   balance           10000 non-null  float64\n",
      " 9   num_of_products   10000 non-null  int64  \n",
      " 10  has_cr_card       10000 non-null  int64  \n",
      " 11  is_active_member  10000 non-null  int64  \n",
      " 12  estimated_salary  10000 non-null  float64\n",
      " 13  exited            10000 non-null  int64  \n",
      "dtypes: float64(3), int64(8), object(3)\n",
      "memory usage: 1.1+ MB\n"
     ]
    }
   ],
   "source": [
    "new_columns = []\n",
    "for col in df.columns:\n",
    "    new_columns.append(re.sub(r'(?<!^)(?=[A-Z])', '_', col).lower())\n",
    "df.columns = new_columns\n",
    "df.info()"
   ]
  },
  {
   "cell_type": "markdown",
   "metadata": {},
   "source": [
    "Посмотрим на данные которые хранятся в столбцах"
   ]
  },
  {
   "cell_type": "code",
   "execution_count": 7,
   "metadata": {},
   "outputs": [
    {
     "name": "stdout",
     "output_type": "stream",
     "text": [
      "row_number [    1     2     3 ...  9998  9999 10000]\n",
      "customer_id [15565701 15565706 15565714 ... 15815656 15815660 15815690]\n",
      "surname ['Abazu' 'Abbie' 'Abbott' ... 'Zuev' 'Zuyev' 'Zuyeva']\n",
      "credit_score [350 351 358 359 363 365 367 373 376 382 383 386 395 399 401 404 405 407\n",
      " 408 410 411 412 413 414 415 416 417 418 419 420 421 422 423 424 425 426\n",
      " 427 428 429 430 431 432 433 434 435 436 437 438 439 440 441 442 443 444\n",
      " 445 446 447 448 449 450 451 452 453 454 455 456 457 458 459 460 461 462\n",
      " 463 464 465 466 467 468 469 470 471 472 473 474 475 476 477 478 479 480\n",
      " 481 482 483 484 485 486 487 488 489 490 491 492 493 494 495 496 497 498\n",
      " 499 500 501 502 503 504 505 506 507 508 509 510 511 512 513 514 515 516\n",
      " 517 518 519 520 521 522 523 524 525 526 527 528 529 530 531 532 533 534\n",
      " 535 536 537 538 539 540 541 542 543 544 545 546 547 548 549 550 551 552\n",
      " 553 554 555 556 557 558 559 560 561 562 563 564 565 566 567 568 569 570\n",
      " 571 572 573 574 575 576 577 578 579 580 581 582 583 584 585 586 587 588\n",
      " 589 590 591 592 593 594 595 596 597 598 599 600 601 602 603 604 605 606\n",
      " 607 608 609 610 611 612 613 614 615 616 617 618 619 620 621 622 623 624\n",
      " 625 626 627 628 629 630 631 632 633 634 635 636 637 638 639 640 641 642\n",
      " 643 644 645 646 647 648 649 650 651 652 653 654 655 656 657 658 659 660\n",
      " 661 662 663 664 665 666 667 668 669 670 671 672 673 674 675 676 677 678\n",
      " 679 680 681 682 683 684 685 686 687 688 689 690 691 692 693 694 695 696\n",
      " 697 698 699 700 701 702 703 704 705 706 707 708 709 710 711 712 713 714\n",
      " 715 716 717 718 719 720 721 722 723 724 725 726 727 728 729 730 731 732\n",
      " 733 734 735 736 737 738 739 740 741 742 743 744 745 746 747 748 749 750\n",
      " 751 752 753 754 755 756 757 758 759 760 761 762 763 764 765 766 767 768\n",
      " 769 770 771 772 773 774 775 776 777 778 779 780 781 782 783 784 785 786\n",
      " 787 788 789 790 791 792 793 794 795 796 797 798 799 800 801 802 803 804\n",
      " 805 806 807 808 809 810 811 812 813 814 815 816 817 818 819 820 821 822\n",
      " 823 824 825 826 827 828 829 830 831 832 833 834 835 836 837 838 839 840\n",
      " 841 842 843 844 845 846 847 848 849 850]\n",
      "geography ['France' 'Germany' 'Spain']\n",
      "gender ['Female' 'Male']\n",
      "age [18 19 20 21 22 23 24 25 26 27 28 29 30 31 32 33 34 35 36 37 38 39 40 41\n",
      " 42 43 44 45 46 47 48 49 50 51 52 53 54 55 56 57 58 59 60 61 62 63 64 65\n",
      " 66 67 68 69 70 71 72 73 74 75 76 77 78 79 80 81 82 83 84 85 88 92]\n",
      "tenure [ 0.  1.  2.  3.  4.  5.  6.  7.  8.  9. 10. nan]\n",
      "balance [     0.     3768.69  12459.19 ... 222267.63 238387.56 250898.09]\n",
      "num_of_products [1 2 3 4]\n",
      "has_cr_card [0 1]\n",
      "is_active_member [0 1]\n",
      "estimated_salary [1.1580000e+01 9.0070000e+01 9.1750000e+01 ... 1.9995333e+05 1.9997074e+05\n",
      " 1.9999248e+05]\n",
      "exited [0 1]\n"
     ]
    }
   ],
   "source": [
    "for column in df.columns:\n",
    "    print(column, df[column].sort_values().unique())"
   ]
  },
  {
   "cell_type": "markdown",
   "metadata": {},
   "source": [
    "Видим что все представленные данные корректные. Только столбец `tenure` имеет небольшое количество пропусков. Заменим пропуске в данном столбце на медианное значение."
   ]
  },
  {
   "cell_type": "code",
   "execution_count": 8,
   "metadata": {},
   "outputs": [],
   "source": [
    "df['tenure'] = df['tenure'].fillna(df['tenure'].median())"
   ]
  },
  {
   "cell_type": "markdown",
   "metadata": {},
   "source": [
    "Проверим на наличие дубликатов"
   ]
  },
  {
   "cell_type": "code",
   "execution_count": 9,
   "metadata": {},
   "outputs": [
    {
     "data": {
      "text/plain": [
       "0"
      ]
     },
     "execution_count": 9,
     "metadata": {},
     "output_type": "execute_result"
    }
   ],
   "source": [
    " df.duplicated().sum()"
   ]
  },
  {
   "cell_type": "markdown",
   "metadata": {},
   "source": [
    "Дубликатов нет."
   ]
  },
  {
   "cell_type": "markdown",
   "metadata": {},
   "source": [
    "Удалим поля которые не представляют интерес для построения модели. Это поля `row_number`, `customer_id`, `surname`"
   ]
  },
  {
   "cell_type": "code",
   "execution_count": 10,
   "metadata": {},
   "outputs": [],
   "source": [
    "df = df.drop(['row_number', 'customer_id', 'surname'], axis=1)"
   ]
  },
  {
   "cell_type": "markdown",
   "metadata": {},
   "source": [
    "Преобразуем категориальные признаки `geography` и `gender` в численные с помощью One-Hot Encoding. Чтобы не попасть в дамми-ловушку укажем drop_first=True"
   ]
  },
  {
   "cell_type": "code",
   "execution_count": 11,
   "metadata": {},
   "outputs": [],
   "source": [
    "df = pd.get_dummies(df, drop_first=True)\n",
    "df.columns = df.columns.str.lower()\n",
    "df.dtypes"
   ]
  },
  {
   "cell_type": "markdown",
   "metadata": {},
   "source": [
    "Посмотрим на баланс целевого признака"
   ]
  },
  {
   "cell_type": "code",
   "execution_count": 12,
   "metadata": {},
   "outputs": [
    {
     "data": {
      "text/plain": [
       "0    7963\n",
       "1    2037\n",
       "Name: exited, dtype: int64"
      ]
     },
     "execution_count": 12,
     "metadata": {},
     "output_type": "execute_result"
    }
   ],
   "source": [
    "df['exited'].value_counts()"
   ]
  },
  {
   "cell_type": "code",
   "execution_count": 13,
   "metadata": {},
   "outputs": [
    {
     "data": {
      "text/plain": [
       "0    0.7963\n",
       "1    0.2037\n",
       "Name: exited, dtype: float64"
      ]
     },
     "execution_count": 13,
     "metadata": {},
     "output_type": "execute_result"
    }
   ],
   "source": [
    "df['exited'].value_counts(normalize=True)"
   ]
  },
  {
   "cell_type": "markdown",
   "metadata": {},
   "source": [
    "### Вывод"
   ]
  },
  {
   "cell_type": "markdown",
   "metadata": {},
   "source": [
    "Мы имеем данные о 10000 клиентах. Имена колонок привели по правилам хорошего тона к snake_case.  \n",
    "Были пропуски (менее 10%) только в колонке `tenure`, заменили пропуски на медианное значение. Дубликатов в данных нет.  \n",
    "Признаки `row_number`, `customer_id`, `surname` не представляют интерес для модели и поэтому были удалены.  \n",
    "Оставшиеся категориальные признаки `geography` и `gender` преобразованны в численные с помощью One-Hot Encoding.  \n",
    "Целевой признак который мы предсказываем `exited`. В наших данных 7963 клиента (79.63%) имеют значение 0 - не ушли, и 2037 клиентов (20.37%) значение 1 - ушли."
   ]
  },
  {
   "cell_type": "markdown",
   "metadata": {},
   "source": [
    "## Исследование задачи"
   ]
  },
  {
   "cell_type": "markdown",
   "metadata": {},
   "source": [
    "### Разделение выборки"
   ]
  },
  {
   "cell_type": "markdown",
   "metadata": {},
   "source": [
    "Разделим данные на признаки и целевой признак"
   ]
  },
  {
   "cell_type": "code",
   "execution_count": 14,
   "metadata": {},
   "outputs": [],
   "source": [
    "features = df.drop('exited', axis=1)\n",
    "target = df['exited']"
   ]
  },
  {
   "cell_type": "markdown",
   "metadata": {},
   "source": [
    "Разделем данные на обучающую 60%, валидационную 20% и тестовую 20% выборки. Т.к. у нас целевой признак не сбалансирован при разбиении зададим stratify, чтобы сохранить соотношение классов в обучающей и тестовых выборках."
   ]
  },
  {
   "cell_type": "code",
   "execution_count": 15,
   "metadata": {},
   "outputs": [],
   "source": [
    "features_train, features_test, target_train, target_test = train_test_split(features, target, train_size=0.6, \n",
    "                                                                            random_state=RANDOM_STATE, stratify=target)"
   ]
  },
  {
   "cell_type": "code",
   "execution_count": 16,
   "metadata": {},
   "outputs": [],
   "source": [
    "features_valid, features_test, target_valid, target_test = train_test_split(features_test, target_test, train_size=0.5, \n",
    "                                                                            random_state=RANDOM_STATE, stratify=target_test)"
   ]
  },
  {
   "cell_type": "markdown",
   "metadata": {},
   "source": [
    "Проверим размер выборок"
   ]
  },
  {
   "cell_type": "code",
   "execution_count": 17,
   "metadata": {},
   "outputs": [
    {
     "name": "stdout",
     "output_type": "stream",
     "text": [
      "(6000, 10) (6000,)\n"
     ]
    }
   ],
   "source": [
    "print(features_train.shape, target_train.shape)"
   ]
  },
  {
   "cell_type": "code",
   "execution_count": 18,
   "metadata": {},
   "outputs": [
    {
     "name": "stdout",
     "output_type": "stream",
     "text": [
      "(2000, 10) (2000,)\n"
     ]
    }
   ],
   "source": [
    "print(features_valid.shape, target_valid.shape)"
   ]
  },
  {
   "cell_type": "code",
   "execution_count": 19,
   "metadata": {
    "scrolled": true
   },
   "outputs": [
    {
     "name": "stdout",
     "output_type": "stream",
     "text": [
      "(2000, 10) (2000,)\n"
     ]
    }
   ],
   "source": [
    "print(features_test.shape, target_test.shape)"
   ]
  },
  {
   "cell_type": "markdown",
   "metadata": {},
   "source": [
    "Отмаштабируем численные признаки `credit_score`, `age`, `tenure`, `balance`, `num_of_products`, `estimated_salary`"
   ]
  },
  {
   "cell_type": "code",
   "execution_count": 21,
   "metadata": {},
   "outputs": [
    {
     "data": {
      "text/html": [
       "<div>\n",
       "<style scoped>\n",
       "    .dataframe tbody tr th:only-of-type {\n",
       "        vertical-align: middle;\n",
       "    }\n",
       "\n",
       "    .dataframe tbody tr th {\n",
       "        vertical-align: top;\n",
       "    }\n",
       "\n",
       "    .dataframe thead th {\n",
       "        text-align: right;\n",
       "    }\n",
       "</style>\n",
       "<table border=\"1\" class=\"dataframe\">\n",
       "  <thead>\n",
       "    <tr style=\"text-align: right;\">\n",
       "      <th></th>\n",
       "      <th>credit_score</th>\n",
       "      <th>age</th>\n",
       "      <th>tenure</th>\n",
       "      <th>balance</th>\n",
       "      <th>num_of_products</th>\n",
       "      <th>has_cr_card</th>\n",
       "      <th>is_active_member</th>\n",
       "      <th>estimated_salary</th>\n",
       "      <th>geography_Germany</th>\n",
       "      <th>geography_Spain</th>\n",
       "      <th>gender_Male</th>\n",
       "    </tr>\n",
       "  </thead>\n",
       "  <tbody>\n",
       "    <tr>\n",
       "      <th>6851</th>\n",
       "      <td>-1.283897</td>\n",
       "      <td>0.008566</td>\n",
       "      <td>1.449637</td>\n",
       "      <td>0.330105</td>\n",
       "      <td>0.783996</td>\n",
       "      <td>1</td>\n",
       "      <td>0</td>\n",
       "      <td>-0.084061</td>\n",
       "      <td>1.0</td>\n",
       "      <td>0.0</td>\n",
       "      <td>0.0</td>\n",
       "    </tr>\n",
       "    <tr>\n",
       "      <th>7026</th>\n",
       "      <td>0.271537</td>\n",
       "      <td>-1.139895</td>\n",
       "      <td>-0.001572</td>\n",
       "      <td>-1.220584</td>\n",
       "      <td>0.783996</td>\n",
       "      <td>0</td>\n",
       "      <td>1</td>\n",
       "      <td>0.264021</td>\n",
       "      <td>0.0</td>\n",
       "      <td>0.0</td>\n",
       "      <td>0.0</td>\n",
       "    </tr>\n",
       "    <tr>\n",
       "      <th>5705</th>\n",
       "      <td>-0.236571</td>\n",
       "      <td>0.104271</td>\n",
       "      <td>-0.001572</td>\n",
       "      <td>1.692794</td>\n",
       "      <td>0.783996</td>\n",
       "      <td>1</td>\n",
       "      <td>1</td>\n",
       "      <td>0.515344</td>\n",
       "      <td>1.0</td>\n",
       "      <td>0.0</td>\n",
       "      <td>1.0</td>\n",
       "    </tr>\n",
       "    <tr>\n",
       "      <th>9058</th>\n",
       "      <td>-1.874962</td>\n",
       "      <td>0.869911</td>\n",
       "      <td>-0.001572</td>\n",
       "      <td>1.032566</td>\n",
       "      <td>-0.919109</td>\n",
       "      <td>1</td>\n",
       "      <td>1</td>\n",
       "      <td>0.303842</td>\n",
       "      <td>0.0</td>\n",
       "      <td>1.0</td>\n",
       "      <td>0.0</td>\n",
       "    </tr>\n",
       "    <tr>\n",
       "      <th>9415</th>\n",
       "      <td>1.215167</td>\n",
       "      <td>0.391386</td>\n",
       "      <td>-1.089979</td>\n",
       "      <td>0.851257</td>\n",
       "      <td>0.783996</td>\n",
       "      <td>0</td>\n",
       "      <td>0</td>\n",
       "      <td>-1.400817</td>\n",
       "      <td>1.0</td>\n",
       "      <td>0.0</td>\n",
       "      <td>0.0</td>\n",
       "    </tr>\n",
       "  </tbody>\n",
       "</table>\n",
       "</div>"
      ],
      "text/plain": [
       "      credit_score       age    tenure   balance  num_of_products  \\\n",
       "6851     -1.283897  0.008566  1.449637  0.330105         0.783996   \n",
       "7026      0.271537 -1.139895 -0.001572 -1.220584         0.783996   \n",
       "5705     -0.236571  0.104271 -0.001572  1.692794         0.783996   \n",
       "9058     -1.874962  0.869911 -0.001572  1.032566        -0.919109   \n",
       "9415      1.215167  0.391386 -1.089979  0.851257         0.783996   \n",
       "\n",
       "      has_cr_card  is_active_member  estimated_salary  geography_Germany  \\\n",
       "6851            1                 0         -0.084061                1.0   \n",
       "7026            0                 1          0.264021                0.0   \n",
       "5705            1                 1          0.515344                1.0   \n",
       "9058            1                 1          0.303842                0.0   \n",
       "9415            0                 0         -1.400817                1.0   \n",
       "\n",
       "      geography_Spain  gender_Male  \n",
       "6851              0.0          0.0  \n",
       "7026              0.0          0.0  \n",
       "5705              0.0          1.0  \n",
       "9058              1.0          0.0  \n",
       "9415              0.0          0.0  "
      ]
     },
     "execution_count": 21,
     "metadata": {},
     "output_type": "execute_result"
    }
   ],
   "source": [
    "numeric = ['credit_score', 'age', 'tenure', 'balance', 'num_of_products', 'estimated_salary']\n",
    "scaler = StandardScaler()\n",
    "scaler.fit(features_train[numeric])\n",
    "\n",
    "pd.options.mode.chained_assignment = None\n",
    "\n",
    "features_train[numeric] = scaler.transform(features_train[numeric])\n",
    "features_valid[numeric] = scaler.transform(features_valid[numeric])\n",
    "features_test[numeric] = scaler.transform(features_test[numeric])\n",
    "\n",
    "features_train.head()"
   ]
  },
  {
   "cell_type": "markdown",
   "metadata": {},
   "source": [
    "### Модель RandomForestClassifier"
   ]
  },
  {
   "cell_type": "markdown",
   "metadata": {},
   "source": [
    "Подберем наилучшие гиперпараметры для случайного леса"
   ]
  },
  {
   "cell_type": "code",
   "execution_count": 23,
   "metadata": {},
   "outputs": [],
   "source": [
    "# функция подбора гиперпараметров для RandomForestClassifier   \n",
    "def search_best_model_rfr(features_train, target_train, features_valid, target_valid, class_weight=None):\n",
    "    best_result = 0\n",
    "    best_model = None\n",
    "    for estimator in range(10, 200, 10):\n",
    "        for depth in range(1, 30, 1):\n",
    "            model = RandomForestClassifier(n_estimators=estimator, \n",
    "                                           max_depth=depth, \n",
    "                                           random_state=RANDOM_STATE, \n",
    "                                           class_weight=class_weight)\n",
    "            model.fit(features_train, target_train)\n",
    "            result = f1_score(target_valid, model.predict(features_valid))\n",
    "            if result > best_result:\n",
    "                best_model = model\n",
    "                best_result = result\n",
    "    \n",
    "    return best_model, best_result "
   ]
  },
  {
   "cell_type": "code",
   "execution_count": 24,
   "metadata": {},
   "outputs": [
    {
     "name": "stdout",
     "output_type": "stream",
     "text": [
      "f1 0.618343195266272\n",
      "CPU times: user 1min 11s, sys: 437 ms, total: 1min 12s\n",
      "Wall time: 1min 12s\n"
     ]
    },
    {
     "data": {
      "text/plain": [
       "{'bootstrap': True,\n",
       " 'ccp_alpha': 0.0,\n",
       " 'class_weight': None,\n",
       " 'criterion': 'gini',\n",
       " 'max_depth': 15,\n",
       " 'max_features': 'sqrt',\n",
       " 'max_leaf_nodes': None,\n",
       " 'max_samples': None,\n",
       " 'min_impurity_decrease': 0.0,\n",
       " 'min_samples_leaf': 1,\n",
       " 'min_samples_split': 2,\n",
       " 'min_weight_fraction_leaf': 0.0,\n",
       " 'n_estimators': 50,\n",
       " 'n_jobs': None,\n",
       " 'oob_score': False,\n",
       " 'random_state': 42,\n",
       " 'verbose': 0,\n",
       " 'warm_start': False}"
      ]
     },
     "execution_count": 24,
     "metadata": {},
     "output_type": "execute_result"
    }
   ],
   "source": [
    "%%time\n",
    "model_rfc, best_f1 = search_best_model_rfr(features_train, target_train, features_valid, target_valid)\n",
    "print('f1', best_f1)\n",
    "model_rfc.get_params()        \n",
    "        "
   ]
  },
  {
   "cell_type": "markdown",
   "metadata": {},
   "source": [
    "Наилучший показатель f1 = 0.61834 получили для модели с парметрами 'max_depth': 15, 'n_estimators': 50"
   ]
  },
  {
   "cell_type": "markdown",
   "metadata": {},
   "source": [
    "Определим метрики классификации "
   ]
  },
  {
   "cell_type": "code",
   "execution_count": 25,
   "metadata": {},
   "outputs": [],
   "source": [
    "#Функция для определения полноты, точности, F1-меры, матрицы ошибок\n",
    "def rec_prec_f1(target_valid, prediction):\n",
    "    print(\"Полнота\" , recall_score(target_valid, prediction))\n",
    "    print(\"Точность\", precision_score(target_valid, prediction))\n",
    "    print(\"F1-мера\", f1_score(target_valid, prediction))\n",
    "    print(confusion_matrix(target_valid, prediction))"
   ]
  },
  {
   "cell_type": "code",
   "execution_count": 26,
   "metadata": {},
   "outputs": [
    {
     "name": "stdout",
     "output_type": "stream",
     "text": [
      "Полнота 0.5122549019607843\n",
      "Точность 0.7798507462686567\n",
      "F1-мера 0.618343195266272\n",
      "[[1533   59]\n",
      " [ 199  209]]\n"
     ]
    }
   ],
   "source": [
    "prediction = model_rfc.predict(features_valid)\n",
    "rec_prec_f1(target_valid, prediction)"
   ]
  },
  {
   "cell_type": "markdown",
   "metadata": {},
   "source": [
    "Построим ROC кривую, и расчитаем коэфициент ROC-AUC"
   ]
  },
  {
   "cell_type": "code",
   "execution_count": 27,
   "metadata": {},
   "outputs": [],
   "source": [
    "def plot_roc(target_valid, probabilities_one_valid):\n",
    "    fpr, tpr, thresholds = roc_curve(target_valid, probabilities_one_valid)\n",
    "\n",
    "    plt.figure()\n",
    "    # ROC-кривая модели\n",
    "    plt.plot(fpr, tpr, linestyle='-')\n",
    "    # ROC-кривая случайной модели\n",
    "    plt.plot([0, 1], [0, 1], linestyle='--')\n",
    "\n",
    "    plt.ylim([0.0, 1.0])\n",
    "    plt.xlim([0.0, 1.0])\n",
    "    plt.xlabel('False Positive Rate')\n",
    "    plt.ylabel('True Positive Rate')\n",
    "    plt.title('ROC-кривая')\n",
    "    plt.show()"
   ]
  },
  {
   "cell_type": "code",
   "execution_count": 28,
   "metadata": {},
   "outputs": [
    {
     "data": {
      "image/png": "[encoded data removed]",
      "text/plain": [
       "<Figure size 432x288 with 1 Axes>"
      ]
     },
     "metadata": {
      "needs_background": "light"
     },
     "output_type": "display_data"
    },
    {
     "name": "stdout",
     "output_type": "stream",
     "text": [
      "0.8566569058527934\n"
     ]
    }
   ],
   "source": [
    "probabilities_valid = model_rfc.predict_proba(features_valid)\n",
    "probabilities_one_valid = probabilities_valid[:, 1]\n",
    "plot_roc(target_valid, probabilities_one_valid)\n",
    "print(roc_auc_score(target_valid, probabilities_one_valid))"
   ]
  },
  {
   "cell_type": "markdown",
   "metadata": {},
   "source": [
    "Модель случайного леса получила F1 = 0.62 и ROC-AUC = 0.86. По матрице ошибок и полноте видим что модель имеет довольно много значений FN, но имеет неплохой показатель точности."
   ]
  },
  {
   "cell_type": "markdown",
   "metadata": {},
   "source": [
    "### Модель DecisionTreeClassifier"
   ]
  },
  {
   "cell_type": "markdown",
   "metadata": {},
   "source": [
    "Подберем наилучшие гиперпараметры для дерева решений"
   ]
  },
  {
   "cell_type": "code",
   "execution_count": 30,
   "metadata": {},
   "outputs": [],
   "source": [
    "# функция подбора гиперпараметров для DecisionTreeClassifier   \n",
    "def search_best_model_dtc(features_train, target_train, features_valid, target_valid, class_weight=None):\n",
    "    best_result = 0\n",
    "    best_model = None\n",
    "    for depth in range(1, 30, 1):\n",
    "        model = DecisionTreeClassifier(max_depth=depth, random_state=RANDOM_STATE, class_weight=class_weight)\n",
    "        model.fit(features_train, target_train)\n",
    "        result = f1_score(target_valid, model.predict(features_valid))\n",
    "        if result > best_result:\n",
    "            best_model = model\n",
    "            best_result = result\n",
    "    \n",
    "    return best_model, best_result "
   ]
  },
  {
   "cell_type": "code",
   "execution_count": 31,
   "metadata": {},
   "outputs": [
    {
     "name": "stdout",
     "output_type": "stream",
     "text": [
      "f1 0.5918367346938777\n",
      "CPU times: user 693 ms, sys: 0 ns, total: 693 ms\n",
      "Wall time: 700 ms\n"
     ]
    },
    {
     "data": {
      "text/plain": [
       "{'ccp_alpha': 0.0,\n",
       " 'class_weight': None,\n",
       " 'criterion': 'gini',\n",
       " 'max_depth': 8,\n",
       " 'max_features': None,\n",
       " 'max_leaf_nodes': None,\n",
       " 'min_impurity_decrease': 0.0,\n",
       " 'min_samples_leaf': 1,\n",
       " 'min_samples_split': 2,\n",
       " 'min_weight_fraction_leaf': 0.0,\n",
       " 'random_state': 42,\n",
       " 'splitter': 'best'}"
      ]
     },
     "execution_count": 31,
     "metadata": {},
     "output_type": "execute_result"
    }
   ],
   "source": [
    "%%time\n",
    "model_dtc, best_f1 = search_best_model_dtc(features_train, target_train, features_valid, target_valid)\n",
    "print('f1', best_f1)\n",
    "model_dtc.get_params() \n"
   ]
  },
  {
   "cell_type": "markdown",
   "metadata": {},
   "source": [
    "Наилучший показатель f1 = 0.591836 получили для модели с парметрами 'max_depth': 8"
   ]
  },
  {
   "cell_type": "markdown",
   "metadata": {},
   "source": [
    "Определим метрики классификации "
   ]
  },
  {
   "cell_type": "code",
   "execution_count": 32,
   "metadata": {},
   "outputs": [
    {
     "name": "stdout",
     "output_type": "stream",
     "text": [
      "Полнота 0.49754901960784315\n",
      "Точность 0.7302158273381295\n",
      "F1-мера 0.5918367346938777\n",
      "[[1517   75]\n",
      " [ 205  203]]\n"
     ]
    }
   ],
   "source": [
    "prediction = model_dtc.predict(features_valid)\n",
    "rec_prec_f1(target_valid, prediction)"
   ]
  },
  {
   "cell_type": "markdown",
   "metadata": {},
   "source": [
    "Построим ROC кривую, и расчитаем коэфициент ROC-AUC"
   ]
  },
  {
   "cell_type": "code",
   "execution_count": 33,
   "metadata": {},
   "outputs": [
    {
     "data": {
      "image/png": "[encoded data removed]",
      "text/plain": [
       "<Figure size 432x288 with 1 Axes>"
      ]
     },
     "metadata": {
      "needs_background": "light"
     },
     "output_type": "display_data"
    },
    {
     "name": "stdout",
     "output_type": "stream",
     "text": [
      "0.8245162700758696\n"
     ]
    }
   ],
   "source": [
    "probabilities_valid = model_dtc.predict_proba(features_valid)\n",
    "probabilities_one_valid = probabilities_valid[:, 1]\n",
    "plot_roc(target_valid, probabilities_one_valid)\n",
    "print(roc_auc_score(target_valid, probabilities_one_valid))"
   ]
  },
  {
   "cell_type": "markdown",
   "metadata": {},
   "source": [
    "Модель дерева решений имеет F1 = 0.59 и ROC-AUC = 0.82. По матрице ошибок и полноте также видим что модель имеет довольно много значений FN, но имеет неплохой показатель точности."
   ]
  },
  {
   "cell_type": "markdown",
   "metadata": {},
   "source": [
    "### Модель LogisticRegression"
   ]
  },
  {
   "cell_type": "code",
   "execution_count": 34,
   "metadata": {},
   "outputs": [
    {
     "name": "stdout",
     "output_type": "stream",
     "text": [
      "CPU times: user 9.39 ms, sys: 2.91 ms, total: 12.3 ms\n",
      "Wall time: 11.1 ms\n"
     ]
    },
    {
     "data": {
      "text/html": [
       "<style>#sk-container-id-1 {color: black;background-color: white;}#sk-container-id-1 pre{padding: 0;}#sk-container-id-1 div.sk-toggleable {background-color: white;}#sk-container-id-1 label.sk-toggleable__label {cursor: pointer;display: block;width: 100%;margin-bottom: 0;padding: 0.3em;box-sizing: border-box;text-align: center;}#sk-container-id-1 label.sk-toggleable__label-arrow:before {content: \"▸\";float: left;margin-right: 0.25em;color: #696969;}#sk-container-id-1 label.sk-toggleable__label-arrow:hover:before {color: black;}#sk-container-id-1 div.sk-estimator:hover label.sk-toggleable__label-arrow:before {color: black;}#sk-container-id-1 div.sk-toggleable__content {max-height: 0;max-width: 0;overflow: hidden;text-align: left;background-color: #f0f8ff;}#sk-container-id-1 div.sk-toggleable__content pre {margin: 0.2em;color: black;border-radius: 0.25em;background-color: #f0f8ff;}#sk-container-id-1 input.sk-toggleable__control:checked~div.sk-toggleable__content {max-height: 200px;max-width: 100%;overflow: auto;}#sk-container-id-1 input.sk-toggleable__control:checked~label.sk-toggleable__label-arrow:before {content: \"▾\";}#sk-container-id-1 div.sk-estimator input.sk-toggleable__control:checked~label.sk-toggleable__label {background-color: #d4ebff;}#sk-container-id-1 div.sk-label input.sk-toggleable__control:checked~label.sk-toggleable__label {background-color: #d4ebff;}#sk-container-id-1 input.sk-hidden--visually {border: 0;clip: rect(1px 1px 1px 1px);clip: rect(1px, 1px, 1px, 1px);height: 1px;margin: -1px;overflow: hidden;padding: 0;position: absolute;width: 1px;}#sk-container-id-1 div.sk-estimator {font-family: monospace;background-color: #f0f8ff;border: 1px dotted black;border-radius: 0.25em;box-sizing: border-box;margin-bottom: 0.5em;}#sk-container-id-1 div.sk-estimator:hover {background-color: #d4ebff;}#sk-container-id-1 div.sk-parallel-item::after {content: \"\";width: 100%;border-bottom: 1px solid gray;flex-grow: 1;}#sk-container-id-1 div.sk-label:hover label.sk-toggleable__label {background-color: #d4ebff;}#sk-container-id-1 div.sk-serial::before {content: \"\";position: absolute;border-left: 1px solid gray;box-sizing: border-box;top: 0;bottom: 0;left: 50%;z-index: 0;}#sk-container-id-1 div.sk-serial {display: flex;flex-direction: column;align-items: center;background-color: white;padding-right: 0.2em;padding-left: 0.2em;position: relative;}#sk-container-id-1 div.sk-item {position: relative;z-index: 1;}#sk-container-id-1 div.sk-parallel {display: flex;align-items: stretch;justify-content: center;background-color: white;position: relative;}#sk-container-id-1 div.sk-item::before, #sk-container-id-1 div.sk-parallel-item::before {content: \"\";position: absolute;border-left: 1px solid gray;box-sizing: border-box;top: 0;bottom: 0;left: 50%;z-index: -1;}#sk-container-id-1 div.sk-parallel-item {display: flex;flex-direction: column;z-index: 1;position: relative;background-color: white;}#sk-container-id-1 div.sk-parallel-item:first-child::after {align-self: flex-end;width: 50%;}#sk-container-id-1 div.sk-parallel-item:last-child::after {align-self: flex-start;width: 50%;}#sk-container-id-1 div.sk-parallel-item:only-child::after {width: 0;}#sk-container-id-1 div.sk-dashed-wrapped {border: 1px dashed gray;margin: 0 0.4em 0.5em 0.4em;box-sizing: border-box;padding-bottom: 0.4em;background-color: white;}#sk-container-id-1 div.sk-label label {font-family: monospace;font-weight: bold;display: inline-block;line-height: 1.2em;}#sk-container-id-1 div.sk-label-container {text-align: center;}#sk-container-id-1 div.sk-container {/* jupyter's `normalize.less` sets `[hidden] { display: none; }` but bootstrap.min.css set `[hidden] { display: none !important; }` so we also need the `!important` here to be able to override the default hidden behavior on the sphinx rendered scikit-learn.org. See: https://github.com/scikit-learn/scikit-learn/issues/21755 */display: inline-block !important;position: relative;}#sk-container-id-1 div.sk-text-repr-fallback {display: none;}</style><div id=\"sk-container-id-1\" class=\"sk-top-container\"><div class=\"sk-text-repr-fallback\"><pre>LogisticRegression(random_state=42, solver=&#x27;liblinear&#x27;)</pre><b>In a Jupyter environment, please rerun this cell to show the HTML representation or trust the notebook. <br />On GitHub, the HTML representation is unable to render, please try loading this page with nbviewer.org.</b></div><div class=\"sk-container\" hidden><div class=\"sk-item\"><div class=\"sk-estimator sk-toggleable\"><input class=\"sk-toggleable__control sk-hidden--visually\" id=\"sk-estimator-id-1\" type=\"checkbox\" checked><label for=\"sk-estimator-id-1\" class=\"sk-toggleable__label sk-toggleable__label-arrow\">LogisticRegression</label><div class=\"sk-toggleable__content\"><pre>LogisticRegression(random_state=42, solver=&#x27;liblinear&#x27;)</pre></div></div></div></div></div>"
      ],
      "text/plain": [
       "LogisticRegression(random_state=42, solver='liblinear')"
      ]
     },
     "execution_count": 34,
     "metadata": {},
     "output_type": "execute_result"
    }
   ],
   "source": [
    "%%time\n",
    "model_lr = LogisticRegression(solver = 'liblinear', random_state=RANDOM_STATE)\n",
    "model_lr.fit(features_train, target_train)"
   ]
  },
  {
   "cell_type": "markdown",
   "metadata": {},
   "source": [
    "Определим метрики классификации "
   ]
  },
  {
   "cell_type": "code",
   "execution_count": 35,
   "metadata": {},
   "outputs": [
    {
     "name": "stdout",
     "output_type": "stream",
     "text": [
      "Полнота 0.22303921568627452\n",
      "Точность 0.6190476190476191\n",
      "F1-мера 0.32792792792792796\n",
      "[[1536   56]\n",
      " [ 317   91]]\n"
     ]
    }
   ],
   "source": [
    "prediction = model_lr.predict(features_valid)\n",
    "rec_prec_f1(target_valid, prediction)"
   ]
  },
  {
   "cell_type": "markdown",
   "metadata": {},
   "source": [
    "Построим ROC кривую, и расчитаем коэфициент ROC-AUC"
   ]
  },
  {
   "cell_type": "code",
   "execution_count": 36,
   "metadata": {},
   "outputs": [
    {
     "data": {
      "image/png": "[encoded data removed]",
      "text/plain": [
       "<Figure size 432x288 with 1 Axes>"
      ]
     },
     "metadata": {
      "needs_background": "light"
     },
     "output_type": "display_data"
    },
    {
     "name": "stdout",
     "output_type": "stream",
     "text": [
      "0.7908014336387822\n"
     ]
    }
   ],
   "source": [
    "probabilities_valid = model_lr.predict_proba(features_valid)\n",
    "probabilities_one_valid = probabilities_valid[:, 1]\n",
    "plot_roc(target_valid, probabilities_one_valid)\n",
    "print(roc_auc_score(target_valid, probabilities_one_valid))"
   ]
  },
  {
   "cell_type": "markdown",
   "metadata": {},
   "source": [
    "Модель логистической регресии показывает наихудший результат F1 = 0.33 и ROC-AUC = 0.79. Модель выдает очень много значений FN, да и точность у нее давольно низкая."
   ]
  },
  {
   "cell_type": "markdown",
   "metadata": {},
   "source": [
    "### Вывод"
   ]
  },
  {
   "cell_type": "markdown",
   "metadata": {},
   "source": [
    "Целевой признак не сбалансирован 80% - значений имеет 0; 20 % - значений 1.  \n",
    "Разделили данные на обучающую 60%, валидационную 20% и тестовую 20% выборки.  \n",
    "Обучили модели случайного леса, дерева решений и логичстической регресии. Лучшее значение метрики F1 = 0.62 получили на модели случайного леса c параметрами 'max_depth': 15, 'n_estimators': 50, немного хуже модель дерева решений = 0.59 с параметрами 'max_depth': 8, всех хуже логистическая регресия = 0.32.  \n",
    "Показатель ROC-AUC для модели случайного леса получили равный 0.86"
   ]
  },
  {
   "cell_type": "markdown",
   "metadata": {},
   "source": [
    "## Борьба с дисбалансом"
   ]
  },
  {
   "cell_type": "markdown",
   "metadata": {},
   "source": [
    "Для борьбы с дисбалансом существуют следующие способы:\n",
    "* взвешивание классов\n",
    "* увеличение выборки\n",
    "* уменьшение выборки\n",
    "\n",
    "Попробуем каждый из них"
   ]
  },
  {
   "cell_type": "markdown",
   "metadata": {},
   "source": [
    "### Взвешивание классов"
   ]
  },
  {
   "cell_type": "markdown",
   "metadata": {},
   "source": [
    "При способе взвешивание классов необходимо в модель передать параметр `class_weight='balanced'`"
   ]
  },
  {
   "cell_type": "code",
   "execution_count": 37,
   "metadata": {},
   "outputs": [
    {
     "name": "stdout",
     "output_type": "stream",
     "text": [
      "f1 0.6437869822485207\n",
      "CPU times: user 1min 12s, sys: 512 ms, total: 1min 12s\n",
      "Wall time: 1min 12s\n"
     ]
    },
    {
     "data": {
      "text/plain": [
       "{'bootstrap': True,\n",
       " 'ccp_alpha': 0.0,\n",
       " 'class_weight': 'balanced',\n",
       " 'criterion': 'gini',\n",
       " 'max_depth': 10,\n",
       " 'max_features': 'sqrt',\n",
       " 'max_leaf_nodes': None,\n",
       " 'max_samples': None,\n",
       " 'min_impurity_decrease': 0.0,\n",
       " 'min_samples_leaf': 1,\n",
       " 'min_samples_split': 2,\n",
       " 'min_weight_fraction_leaf': 0.0,\n",
       " 'n_estimators': 50,\n",
       " 'n_jobs': None,\n",
       " 'oob_score': False,\n",
       " 'random_state': 42,\n",
       " 'verbose': 0,\n",
       " 'warm_start': False}"
      ]
     },
     "execution_count": 37,
     "metadata": {},
     "output_type": "execute_result"
    }
   ],
   "source": [
    "%%time\n",
    "model_rfc_balanced, best_f1 = search_best_model_rfr(features_train, target_train, features_valid, target_valid, \n",
    "                                                    class_weight='balanced')\n",
    "print('f1', best_f1)\n",
    "model_rfc_balanced.get_params()  "
   ]
  },
  {
   "cell_type": "markdown",
   "metadata": {},
   "source": [
    "Наилучший показатель f1 = 0.64379 получили для модели с парметрами 'max_depth': 10, 'n_estimators': 50"
   ]
  },
  {
   "cell_type": "code",
   "execution_count": 38,
   "metadata": {},
   "outputs": [
    {
     "name": "stdout",
     "output_type": "stream",
     "text": [
      "Полнота 0.6666666666666666\n",
      "Точность 0.6224256292906178\n",
      "F1-мера 0.6437869822485207\n",
      "[[1427  165]\n",
      " [ 136  272]]\n"
     ]
    }
   ],
   "source": [
    "prediction = model_rfc_balanced.predict(features_valid)\n",
    "rec_prec_f1(target_valid, prediction)"
   ]
  },
  {
   "cell_type": "code",
   "execution_count": 39,
   "metadata": {},
   "outputs": [
    {
     "data": {
      "image/png": "[encoded data removed]",
      "text/plain": [
       "<Figure size 432x288 with 1 Axes>"
      ]
     },
     "metadata": {
      "needs_background": "light"
     },
     "output_type": "display_data"
    },
    {
     "name": "stdout",
     "output_type": "stream",
     "text": [
      "0.8662214257562322\n"
     ]
    }
   ],
   "source": [
    "probabilities_valid = model_rfc_balanced.predict_proba(features_valid)\n",
    "probabilities_one_valid = probabilities_valid[:, 1]\n",
    "plot_roc(target_valid, probabilities_one_valid)\n",
    "print(roc_auc_score(target_valid, probabilities_one_valid))"
   ]
  },
  {
   "cell_type": "code",
   "execution_count": 40,
   "metadata": {},
   "outputs": [
    {
     "name": "stdout",
     "output_type": "stream",
     "text": [
      "f1 0.5754141238012207\n",
      "CPU times: user 700 ms, sys: 3.96 ms, total: 704 ms\n",
      "Wall time: 710 ms\n"
     ]
    },
    {
     "data": {
      "text/plain": [
       "{'ccp_alpha': 0.0,\n",
       " 'class_weight': 'balanced',\n",
       " 'criterion': 'gini',\n",
       " 'max_depth': 6,\n",
       " 'max_features': None,\n",
       " 'max_leaf_nodes': None,\n",
       " 'min_impurity_decrease': 0.0,\n",
       " 'min_samples_leaf': 1,\n",
       " 'min_samples_split': 2,\n",
       " 'min_weight_fraction_leaf': 0.0,\n",
       " 'random_state': 42,\n",
       " 'splitter': 'best'}"
      ]
     },
     "execution_count": 40,
     "metadata": {},
     "output_type": "execute_result"
    }
   ],
   "source": [
    "%%time\n",
    "model_dtc_balanced, best_f1 = search_best_model_dtc(features_train, target_train, features_valid, target_valid, \n",
    "                                                    class_weight='balanced')\n",
    "print('f1', best_f1)\n",
    "model_dtc_balanced.get_params()  "
   ]
  },
  {
   "cell_type": "markdown",
   "metadata": {},
   "source": [
    "Наилучший показатель f1 = 0.57541 получили для модели с парметрами 'max_depth': 6"
   ]
  },
  {
   "cell_type": "code",
   "execution_count": 41,
   "metadata": {},
   "outputs": [
    {
     "name": "stdout",
     "output_type": "stream",
     "text": [
      "Полнота 0.8088235294117647\n",
      "Точность 0.4465493910690122\n",
      "F1-мера 0.5754141238012207\n",
      "[[1183  409]\n",
      " [  78  330]]\n"
     ]
    }
   ],
   "source": [
    "prediction = model_dtc_balanced.predict(features_valid)\n",
    "rec_prec_f1(target_valid, prediction)"
   ]
  },
  {
   "cell_type": "code",
   "execution_count": 42,
   "metadata": {},
   "outputs": [
    {
     "data": {
      "image/png": "[encoded data removed]",
      "text/plain": [
       "<Figure size 432x288 with 1 Axes>"
      ]
     },
     "metadata": {
      "needs_background": "light"
     },
     "output_type": "display_data"
    },
    {
     "name": "stdout",
     "output_type": "stream",
     "text": [
      "0.8457929968469801\n"
     ]
    }
   ],
   "source": [
    "probabilities_valid = model_dtc_balanced.predict_proba(features_valid)\n",
    "probabilities_one_valid = probabilities_valid[:, 1]\n",
    "plot_roc(target_valid, probabilities_one_valid)\n",
    "print(roc_auc_score(target_valid, probabilities_one_valid))"
   ]
  },
  {
   "cell_type": "code",
   "execution_count": 43,
   "metadata": {},
   "outputs": [
    {
     "name": "stdout",
     "output_type": "stream",
     "text": [
      "Полнота 0.7450980392156863\n",
      "Точность 0.3989501312335958\n",
      "F1-мера 0.5196581196581197\n",
      "[[1134  458]\n",
      " [ 104  304]]\n"
     ]
    }
   ],
   "source": [
    "model_lr_balanced = LogisticRegression(random_state=RANDOM_STATE, solver = 'liblinear', class_weight='balanced')\n",
    "model_lr_balanced.fit(features_train, target_train)\n",
    "prediction = model_lr_balanced.predict(features_valid)\n",
    "rec_prec_f1(target_valid, prediction)"
   ]
  },
  {
   "cell_type": "markdown",
   "metadata": {},
   "source": [
    "Взвешивание классов улучшило качество моделей. На модели случайного леса показатель f1 = 0.6438, дерево решений = 0.5754, у логистической регресии = 0.5197."
   ]
  },
  {
   "cell_type": "markdown",
   "metadata": {},
   "source": [
    "### Увеличение выборки (upsampling)"
   ]
  },
  {
   "cell_type": "markdown",
   "metadata": {},
   "source": [
    "При методе увеличение выборки нам нужно увеличить количество положительных ответов в 4 раза"
   ]
  },
  {
   "cell_type": "code",
   "execution_count": 44,
   "metadata": {},
   "outputs": [],
   "source": [
    "def upsample(features, target, repeat):\n",
    "    features_zeros = features[target == 0]\n",
    "    features_ones = features[target == 1]\n",
    "    target_zeros = target[target == 0]\n",
    "    target_ones = target[target == 1]\n",
    "\n",
    "    features_upsampled = pd.concat([features_zeros] + [features_ones] * repeat)\n",
    "    target_upsampled = pd.concat([target_zeros] + [target_ones] * repeat)\n",
    "    \n",
    "    features_upsampled, target_upsampled = shuffle(\n",
    "        features_upsampled, target_upsampled, random_state=RANDOM_STATE)\n",
    "    \n",
    "    return features_upsampled, target_upsampled"
   ]
  },
  {
   "cell_type": "code",
   "execution_count": 45,
   "metadata": {},
   "outputs": [],
   "source": [
    "features_upsampled, target_upsampled = upsample(features_train, target_train, 4)"
   ]
  },
  {
   "cell_type": "code",
   "execution_count": 46,
   "metadata": {},
   "outputs": [
    {
     "data": {
      "text/plain": [
       "1    0.50569\n",
       "0    0.49431\n",
       "Name: exited, dtype: float64"
      ]
     },
     "execution_count": 46,
     "metadata": {},
     "output_type": "execute_result"
    }
   ],
   "source": [
    "target_upsampled.value_counts(normalize=True)"
   ]
  },
  {
   "cell_type": "code",
   "execution_count": 47,
   "metadata": {},
   "outputs": [
    {
     "name": "stdout",
     "output_type": "stream",
     "text": [
      "f1 0.641025641025641\n",
      "CPU times: user 1min 37s, sys: 420 ms, total: 1min 38s\n",
      "Wall time: 1min 38s\n"
     ]
    },
    {
     "data": {
      "text/plain": [
       "{'bootstrap': True,\n",
       " 'ccp_alpha': 0.0,\n",
       " 'class_weight': None,\n",
       " 'criterion': 'gini',\n",
       " 'max_depth': 10,\n",
       " 'max_features': 'sqrt',\n",
       " 'max_leaf_nodes': None,\n",
       " 'max_samples': None,\n",
       " 'min_impurity_decrease': 0.0,\n",
       " 'min_samples_leaf': 1,\n",
       " 'min_samples_split': 2,\n",
       " 'min_weight_fraction_leaf': 0.0,\n",
       " 'n_estimators': 30,\n",
       " 'n_jobs': None,\n",
       " 'oob_score': False,\n",
       " 'random_state': 42,\n",
       " 'verbose': 0,\n",
       " 'warm_start': False}"
      ]
     },
     "execution_count": 47,
     "metadata": {},
     "output_type": "execute_result"
    }
   ],
   "source": [
    "%%time\n",
    "model_rfc_up, best_f1 = search_best_model_rfr(features_upsampled, target_upsampled, features_valid, target_valid)\n",
    "print('f1', best_f1)\n",
    "model_rfc_up.get_params()"
   ]
  },
  {
   "cell_type": "markdown",
   "metadata": {},
   "source": [
    "Наилучший показатель f1 = 0.64103 получили для модели с парметрами 'max_depth': 10, 'n_estimators': 30"
   ]
  },
  {
   "cell_type": "code",
   "execution_count": 48,
   "metadata": {},
   "outputs": [
    {
     "name": "stdout",
     "output_type": "stream",
     "text": [
      "Полнота 0.7352941176470589\n",
      "Точность 0.5681818181818182\n",
      "F1-мера 0.641025641025641\n",
      "[[1364  228]\n",
      " [ 108  300]]\n"
     ]
    }
   ],
   "source": [
    "prediction = model_rfc_up.predict(features_valid)\n",
    "rec_prec_f1(target_valid, prediction)"
   ]
  },
  {
   "cell_type": "code",
   "execution_count": 49,
   "metadata": {},
   "outputs": [
    {
     "data": {
      "image/png": "[encoded data removed]",
      "text/plain": [
       "<Figure size 432x288 with 1 Axes>"
      ]
     },
     "metadata": {
      "needs_background": "light"
     },
     "output_type": "display_data"
    },
    {
     "name": "stdout",
     "output_type": "stream",
     "text": [
      "0.8693005468519066\n"
     ]
    }
   ],
   "source": [
    "probabilities_valid = model_rfc_up.predict_proba(features_valid)\n",
    "probabilities_one_valid = probabilities_valid[:, 1]\n",
    "plot_roc(target_valid, probabilities_one_valid)\n",
    "print(roc_auc_score(target_valid, probabilities_one_valid))"
   ]
  },
  {
   "cell_type": "code",
   "execution_count": 50,
   "metadata": {},
   "outputs": [
    {
     "name": "stdout",
     "output_type": "stream",
     "text": [
      "f1 0.5749128919860628\n",
      "CPU times: user 871 ms, sys: 0 ns, total: 871 ms\n",
      "Wall time: 878 ms\n"
     ]
    },
    {
     "data": {
      "text/plain": [
       "{'ccp_alpha': 0.0,\n",
       " 'class_weight': None,\n",
       " 'criterion': 'gini',\n",
       " 'max_depth': 6,\n",
       " 'max_features': None,\n",
       " 'max_leaf_nodes': None,\n",
       " 'min_impurity_decrease': 0.0,\n",
       " 'min_samples_leaf': 1,\n",
       " 'min_samples_split': 2,\n",
       " 'min_weight_fraction_leaf': 0.0,\n",
       " 'random_state': 42,\n",
       " 'splitter': 'best'}"
      ]
     },
     "execution_count": 50,
     "metadata": {},
     "output_type": "execute_result"
    }
   ],
   "source": [
    "%%time\n",
    "model_dtc_up, best_f1 = search_best_model_dtc(features_upsampled, target_upsampled, features_valid, target_valid)\n",
    "print('f1', best_f1)\n",
    "model_dtc_up.get_params()"
   ]
  },
  {
   "cell_type": "markdown",
   "metadata": {},
   "source": [
    "Наилучший показатель f1 = 0.5749 получили для модели с парметрами 'max_depth': 6"
   ]
  },
  {
   "cell_type": "code",
   "execution_count": 51,
   "metadata": {},
   "outputs": [
    {
     "name": "stdout",
     "output_type": "stream",
     "text": [
      "Полнота 0.8088235294117647\n",
      "Точность 0.44594594594594594\n",
      "F1-мера 0.5749128919860628\n",
      "[[1182  410]\n",
      " [  78  330]]\n"
     ]
    }
   ],
   "source": [
    "prediction = model_dtc_up.predict(features_valid)\n",
    "rec_prec_f1(target_valid, prediction)"
   ]
  },
  {
   "cell_type": "code",
   "execution_count": 52,
   "metadata": {},
   "outputs": [
    {
     "data": {
      "image/png": "[encoded data removed]",
      "text/plain": [
       "<Figure size 432x288 with 1 Axes>"
      ]
     },
     "metadata": {
      "needs_background": "light"
     },
     "output_type": "display_data"
    },
    {
     "name": "stdout",
     "output_type": "stream",
     "text": [
      "0.8451871797714059\n"
     ]
    }
   ],
   "source": [
    "probabilities_valid = model_dtc_up.predict_proba(features_valid)\n",
    "probabilities_one_valid = probabilities_valid[:, 1]\n",
    "plot_roc(target_valid, probabilities_one_valid)\n",
    "print(roc_auc_score(target_valid, probabilities_one_valid))"
   ]
  },
  {
   "cell_type": "code",
   "execution_count": 53,
   "metadata": {},
   "outputs": [
    {
     "name": "stdout",
     "output_type": "stream",
     "text": [
      "Полнота 0.7573529411764706\n",
      "Точность 0.39666238767650835\n",
      "F1-мера 0.5206402695871947\n",
      "[[1122  470]\n",
      " [  99  309]]\n"
     ]
    }
   ],
   "source": [
    "model_lr_up = LogisticRegression(random_state=RANDOM_STATE, solver = 'liblinear')\n",
    "model_lr_up.fit(features_upsampled, target_upsampled)\n",
    "prediction = model_lr_up.predict(features_valid)\n",
    "rec_prec_f1(target_valid, prediction)"
   ]
  },
  {
   "cell_type": "code",
   "execution_count": 54,
   "metadata": {},
   "outputs": [
    {
     "data": {
      "image/png": "[encoded data removed]",
      "text/plain": [
       "<Figure size 432x288 with 1 Axes>"
      ]
     },
     "metadata": {
      "needs_background": "light"
     },
     "output_type": "display_data"
    },
    {
     "name": "stdout",
     "output_type": "stream",
     "text": [
      "0.7938420657207607\n"
     ]
    }
   ],
   "source": [
    "probabilities_valid = model_lr_up.predict_proba(features_valid)\n",
    "probabilities_one_valid = probabilities_valid[:, 1]\n",
    "plot_roc(target_valid, probabilities_one_valid)\n",
    "print(roc_auc_score(target_valid, probabilities_one_valid))"
   ]
  },
  {
   "cell_type": "markdown",
   "metadata": {},
   "source": [
    "Балансировка с помощью увеличения выборки улучшило качество моделей по сравнению с несбаллансированной выборкой. На модели случайного леса показатель f1 = 0.641, дерево решений = 0.5749, у логистической регресии = 0.5206. Попробуем уменьшение выборки."
   ]
  },
  {
   "cell_type": "markdown",
   "metadata": {},
   "source": [
    "### Уменьшение выборки (downsampling)"
   ]
  },
  {
   "cell_type": "code",
   "execution_count": 55,
   "metadata": {},
   "outputs": [],
   "source": [
    "def downsample(features, target, fraction):\n",
    "    features_zeros = features[target == 0]\n",
    "    features_ones = features[target == 1]\n",
    "    target_zeros = target[target == 0]\n",
    "    target_ones = target[target == 1]\n",
    "\n",
    "    features_downsampled = pd.concat(\n",
    "        [features_zeros.sample(frac=fraction, random_state=RANDOM_STATE)] + [features_ones])\n",
    "    target_downsampled = pd.concat(\n",
    "        [target_zeros.sample(frac=fraction, random_state=RANDOM_STATE)] + [target_ones])\n",
    "    \n",
    "    features_downsampled, target_downsampled = shuffle(\n",
    "        features_downsampled, target_downsampled, random_state=RANDOM_STATE)\n",
    "    \n",
    "    return features_downsampled, target_downsampled\n",
    "\n",
    "features_downsampled, target_downsampled = downsample(features_train, target_train, 0.25)"
   ]
  },
  {
   "cell_type": "code",
   "execution_count": 56,
   "metadata": {},
   "outputs": [
    {
     "data": {
      "text/plain": [
       "1    0.505795\n",
       "0    0.494205\n",
       "Name: exited, dtype: float64"
      ]
     },
     "execution_count": 56,
     "metadata": {},
     "output_type": "execute_result"
    }
   ],
   "source": [
    "target_downsampled.value_counts(normalize=True)"
   ]
  },
  {
   "cell_type": "code",
   "execution_count": 57,
   "metadata": {},
   "outputs": [
    {
     "name": "stdout",
     "output_type": "stream",
     "text": [
      "f1 0.6124763705103969\n",
      "CPU times: user 39.7 s, sys: 196 ms, total: 39.9 s\n",
      "Wall time: 39.9 s\n"
     ]
    },
    {
     "data": {
      "text/plain": [
       "{'bootstrap': True,\n",
       " 'ccp_alpha': 0.0,\n",
       " 'class_weight': None,\n",
       " 'criterion': 'gini',\n",
       " 'max_depth': 7,\n",
       " 'max_features': 'sqrt',\n",
       " 'max_leaf_nodes': None,\n",
       " 'max_samples': None,\n",
       " 'min_impurity_decrease': 0.0,\n",
       " 'min_samples_leaf': 1,\n",
       " 'min_samples_split': 2,\n",
       " 'min_weight_fraction_leaf': 0.0,\n",
       " 'n_estimators': 70,\n",
       " 'n_jobs': None,\n",
       " 'oob_score': False,\n",
       " 'random_state': 42,\n",
       " 'verbose': 0,\n",
       " 'warm_start': False}"
      ]
     },
     "execution_count": 57,
     "metadata": {},
     "output_type": "execute_result"
    }
   ],
   "source": [
    "%%time\n",
    "model_rfc_dw, best_f1 = search_best_model_rfr(features_downsampled, target_downsampled, features_valid, target_valid)\n",
    "print('f1', best_f1)\n",
    "model_rfc_dw.get_params()"
   ]
  },
  {
   "cell_type": "code",
   "execution_count": 58,
   "metadata": {},
   "outputs": [
    {
     "name": "stdout",
     "output_type": "stream",
     "text": [
      "Полнота 0.7941176470588235\n",
      "Точность 0.49846153846153846\n",
      "F1-мера 0.6124763705103969\n",
      "[[1266  326]\n",
      " [  84  324]]\n"
     ]
    }
   ],
   "source": [
    "prediction = model_rfc_dw.predict(features_valid)\n",
    "rec_prec_f1(target_valid, prediction)"
   ]
  },
  {
   "cell_type": "code",
   "execution_count": 59,
   "metadata": {},
   "outputs": [
    {
     "data": {
      "image/png": "[encoded data removed]",
      "text/plain": [
       "<Figure size 432x288 with 1 Axes>"
      ]
     },
     "metadata": {
      "needs_background": "light"
     },
     "output_type": "display_data"
    },
    {
     "name": "stdout",
     "output_type": "stream",
     "text": [
      "0.870998682136171\n"
     ]
    }
   ],
   "source": [
    "probabilities_valid = model_rfc_dw.predict_proba(features_valid)\n",
    "probabilities_one_valid = probabilities_valid[:, 1]\n",
    "plot_roc(target_valid, probabilities_one_valid)\n",
    "print(roc_auc_score(target_valid, probabilities_one_valid))"
   ]
  },
  {
   "cell_type": "code",
   "execution_count": 60,
   "metadata": {},
   "outputs": [
    {
     "name": "stdout",
     "output_type": "stream",
     "text": [
      "f1 0.5827937095282146\n",
      "CPU times: user 317 ms, sys: 3.94 ms, total: 321 ms\n",
      "Wall time: 327 ms\n"
     ]
    },
    {
     "data": {
      "text/plain": [
       "{'ccp_alpha': 0.0,\n",
       " 'class_weight': None,\n",
       " 'criterion': 'gini',\n",
       " 'max_depth': 6,\n",
       " 'max_features': None,\n",
       " 'max_leaf_nodes': None,\n",
       " 'min_impurity_decrease': 0.0,\n",
       " 'min_samples_leaf': 1,\n",
       " 'min_samples_split': 2,\n",
       " 'min_weight_fraction_leaf': 0.0,\n",
       " 'random_state': 42,\n",
       " 'splitter': 'best'}"
      ]
     },
     "execution_count": 60,
     "metadata": {},
     "output_type": "execute_result"
    }
   ],
   "source": [
    "%%time\n",
    "model_dtc_dw, best_f1 = search_best_model_dtc(features_downsampled, target_downsampled, features_valid, target_valid)\n",
    "print('f1', best_f1)\n",
    "model_dtc_dw.get_params()"
   ]
  },
  {
   "cell_type": "code",
   "execution_count": 61,
   "metadata": {},
   "outputs": [
    {
     "name": "stdout",
     "output_type": "stream",
     "text": [
      "Полнота 0.7720588235294118\n",
      "Точность 0.46805349182763745\n",
      "F1-мера 0.5827937095282146\n",
      "[[1234  358]\n",
      " [  93  315]]\n"
     ]
    }
   ],
   "source": [
    "prediction = model_dtc_dw.predict(features_valid)\n",
    "rec_prec_f1(target_valid, prediction)"
   ]
  },
  {
   "cell_type": "code",
   "execution_count": 62,
   "metadata": {},
   "outputs": [
    {
     "data": {
      "image/png": "[encoded data removed]",
      "text/plain": [
       "<Figure size 432x288 with 1 Axes>"
      ]
     },
     "metadata": {
      "needs_background": "light"
     },
     "output_type": "display_data"
    },
    {
     "name": "stdout",
     "output_type": "stream",
     "text": [
      "0.834046919647256\n"
     ]
    }
   ],
   "source": [
    "probabilities_valid = model_dtc_dw.predict_proba(features_valid)\n",
    "probabilities_one_valid = probabilities_valid[:, 1]\n",
    "plot_roc(target_valid, probabilities_one_valid)\n",
    "print(roc_auc_score(target_valid, probabilities_one_valid))"
   ]
  },
  {
   "cell_type": "code",
   "execution_count": 63,
   "metadata": {},
   "outputs": [
    {
     "name": "stdout",
     "output_type": "stream",
     "text": [
      "Полнота 0.7549019607843137\n",
      "Точность 0.40052015604681407\n",
      "F1-мера 0.5233644859813085\n",
      "[[1131  461]\n",
      " [ 100  308]]\n"
     ]
    }
   ],
   "source": [
    "model_lr_dw = LogisticRegression(random_state=RANDOM_STATE, solver = 'liblinear', class_weight='balanced')\n",
    "model_lr_dw.fit(features_downsampled, target_downsampled)\n",
    "prediction = model_lr_dw.predict(features_valid)\n",
    "rec_prec_f1(target_valid, prediction)"
   ]
  },
  {
   "cell_type": "code",
   "execution_count": 64,
   "metadata": {},
   "outputs": [
    {
     "data": {
      "image/png": "[encoded data removed]",
      "text/plain": [
       "<Figure size 432x288 with 1 Axes>"
      ]
     },
     "metadata": {
      "needs_background": "light"
     },
     "output_type": "display_data"
    },
    {
     "name": "stdout",
     "output_type": "stream",
     "text": [
      "0.7940006404571879\n"
     ]
    }
   ],
   "source": [
    "probabilities_valid = model_lr_dw.predict_proba(features_valid)\n",
    "probabilities_one_valid = probabilities_valid[:, 1]\n",
    "plot_roc(target_valid, probabilities_one_valid)\n",
    "print(roc_auc_score(target_valid, probabilities_one_valid))"
   ]
  },
  {
   "cell_type": "markdown",
   "metadata": {},
   "source": [
    "На уменьшенной выборке случайный лес f1 = 0.6125, дерево решений = 0.5828, логистическая регресия = 0.5234"
   ]
  },
  {
   "cell_type": "markdown",
   "metadata": {},
   "source": [
    "### Вывод"
   ]
  },
  {
   "cell_type": "markdown",
   "metadata": {},
   "source": [
    "Для борьбы с дисбалансом в выборке попробовали несколько способов. Это увеличение выборки (Upsamlping), уменьшение выборки (Downsampling) и взвешивание классов (class_weight).  \n",
    "При взвешивании классов получили показатели f1: модель случайного леса показатель f1 = 0.6438, дерево решений = 0.5754, у логистической регресии = 0.5197.\n",
    "При Upsamlping: модель случайного леса показатель f1 = 0.641, дерево решений = 0.5749, у логистической регресии = 0.5206\n",
    "При Downsampling: модель случайного леса f1 = 0.6125, дерево решений = 0.5828, логистическая регресия = 0.5234  \n",
    "\n",
    "По итогам лучшие результаты по метрике F1 показал случайный лес с методом борьбы с дисбалансом - взвешивание классов (class_weight), эту модель и проверим на тестовой выборке.  \n",
    "Параметры модели\n",
    "{'class_weight': 'balanced',\n",
    " 'max_depth': 10,\n",
    " 'n_estimators': 50}"
   ]
  },
  {
   "cell_type": "markdown",
   "metadata": {},
   "source": [
    "## Тестирование модели"
   ]
  },
  {
   "cell_type": "markdown",
   "metadata": {},
   "source": [
    "Проверим нашу модель на тестовых данных"
   ]
  },
  {
   "cell_type": "code",
   "execution_count": 65,
   "metadata": {},
   "outputs": [
    {
     "name": "stdout",
     "output_type": "stream",
     "text": [
      "Полнота 0.628992628992629\n",
      "Точность 0.6259168704156479\n",
      "F1-мера 0.6274509803921567\n",
      "[[1440  153]\n",
      " [ 151  256]]\n"
     ]
    }
   ],
   "source": [
    "model_rfc_balanced = RandomForestClassifier(random_state=RANDOM_STATE, \n",
    "                                            n_estimators = 50, \n",
    "                                            max_depth = 10, \n",
    "                                            class_weight = 'balanced')\n",
    "model_rfc_balanced.fit(features_train, target_train)\n",
    "prediction = model_rfc_balanced.predict(features_test)\n",
    "rec_prec_f1(target_test, prediction)"
   ]
  },
  {
   "cell_type": "markdown",
   "metadata": {},
   "source": [
    "Построим ROC кривую, и расчитаем коэфициент ROC-AUC"
   ]
  },
  {
   "cell_type": "code",
   "execution_count": 66,
   "metadata": {},
   "outputs": [
    {
     "data": {
      "image/png": "[encoded data removed]",
      "text/plain": [
       "<Figure size 432x288 with 1 Axes>"
      ]
     },
     "metadata": {
      "needs_background": "light"
     },
     "output_type": "display_data"
    },
    {
     "name": "stdout",
     "output_type": "stream",
     "text": [
      "0.8565869413327041\n"
     ]
    }
   ],
   "source": [
    "probabilities_test = model_rfc_balanced.predict_proba(features_test)\n",
    "probabilities_one_test = probabilities_test[:, 1]\n",
    "plot_roc(target_test, probabilities_one_test)\n",
    "print(roc_auc_score(target_test, probabilities_one_test))"
   ]
  },
  {
   "cell_type": "markdown",
   "metadata": {},
   "source": [
    "### Проверка на адекватность модели"
   ]
  },
  {
   "cell_type": "markdown",
   "metadata": {},
   "source": [
    "Сравним нашу модель с константной моделью"
   ]
  },
  {
   "cell_type": "code",
   "execution_count": 67,
   "metadata": {},
   "outputs": [
    {
     "data": {
      "text/plain": [
       "0.3381803074366431"
      ]
     },
     "execution_count": 67,
     "metadata": {},
     "output_type": "execute_result"
    }
   ],
   "source": [
    "dummy_model = DummyClassifier(strategy='constant', constant=1)\n",
    "dummy_model.fit(features_train, target_train)\n",
    "f1_score(dummy_model.predict(features_test), target_test)"
   ]
  },
  {
   "cell_type": "markdown",
   "metadata": {},
   "source": [
    "### Вывод"
   ]
  },
  {
   "cell_type": "markdown",
   "metadata": {},
   "source": [
    "На тестовых данных получили значение f1 равное 0.6275. ROC-AUC больше f1 и равен 0.8566, что лучше константной модели 0.5.  \n",
    "Показатель f1 нашей модели 0.6275, выше чем у константной модели = 0.3381 - модель адекватная."
   ]
  },
  {
   "cell_type": "markdown",
   "metadata": {},
   "source": [
    "## Общий вывод"
   ]
  },
  {
   "cell_type": "markdown",
   "metadata": {},
   "source": [
    "У нас были данные о 10000 клиентах. Имена колонок привели по правилам хорошего тона к snake_case.\n",
    "Были пропуски (менее 10%) в колонке tenure, заменили пропуски на медианное значение. Дубликатов в данных нет.\n",
    "Признаки row_number, customer_id, surname не представляют интерес для модели и поэтому были удалены.\n",
    "Оставшиеся категориальные признаки geography и gender преобразованны в численные с помощью One-Hot Encoding.\n",
    "Целевой признак который мы предсказываем exited. В наших данных 7963 клиента (79.63%) имеют значение 0 - не ушли, и 2037 клиентов (20.37%) значение 1 - ушли.  \n",
    "\n",
    "Целевой признак не сбалансирован 80% - значений имеет 0; 20 % - значений 1.  \n",
    "Разделили данные на обучающую 60%, валидационную 20% и тестовую 20% выборки.  \n",
    "Обучили модели случайного леса, дерева решений и логичстической регресии. Лучшее значение метрики F1 = 0.62 получили на модели случайного леса c параметрами 'max_depth': 15, 'n_estimators': 50, немного хуже модель дерева решений = 0.59 с параметрами 'max_depth': 8, всех хуже логистическая регресия = 0.32.  \n",
    "Показатель ROC-AUC для модели случайного леса получили равный 0.86.\n",
    "\n",
    "Для борьбы с дисбалансом в выборке попробовали несколько способов. Это увеличение выборки (Upsamlping), уменьшение выборки (Downsampling) и взвешивание классов (class_weight).  \n",
    "При взвешивании классов получили показатели f1: модель случайного леса показатель f1 = 0.6438, дерево решений = 0.5754, у логистической регресии = 0.5197.  \n",
    "При Upsamlping: модель случайного леса показатель f1 = 0.641, дерево решений = 0.5749, у логистической регресии = 0.5206  \n",
    "При Downsampling: модель случайного леса f1 = 0.6125, дерево решений = 0.5828, логистическая регресия = 0.5234  \n",
    "\n",
    "По итогам лучшие результаты по метрике F1 показал случайный лес с методом борьбы с дисбалансом - взвешивание классов (class_weight), эту модель и проверим на тестовой выборке. Параметры модели {'class_weight': 'balanced', 'max_depth': 10, 'n_estimators': 50}\n",
    "\n",
    "Провели тестирование модели случайного леса с параметрами {'class_weight': 'balanced', 'max_depth': 10, 'n_estimators': 50}. На тестовой выборке получили значение f1 равное 0.6275, ROC-AUC равен 0.8566, что лучше константной модели 0.5.  \n",
    "Показатель f1 нашей модели 0.6275, выше чем у константной модели = 0.3381 - модель адекватная.\n"
   ]
  },
  {
   "cell_type": "markdown",
   "metadata": {},
   "source": [
    "## Чек-лист готовности проекта"
   ]
  },
  {
   "cell_type": "markdown",
   "metadata": {},
   "source": [
    "Поставьте 'x' в выполненных пунктах. Далее нажмите Shift+Enter."
   ]
  },
  {
   "cell_type": "markdown",
   "metadata": {},
   "source": [
    "- [x]  Jupyter Notebook открыт\n",
    "- [x]  Весь код выполняется без ошибок\n",
    "- [x]  Ячейки с кодом расположены в порядке исполнения\n",
    "- [x]  Выполнен шаг 1: данные подготовлены\n",
    "- [x]  Выполнен шаг 2: задача исследована\n",
    "    - [x]  Исследован баланс классов\n",
    "    - [x]  Изучены модели без учёта дисбаланса\n",
    "    - [x]  Написаны выводы по результатам исследования\n",
    "- [x]  Выполнен шаг 3: учтён дисбаланс\n",
    "    - [x]  Применено несколько способов борьбы с дисбалансом\n",
    "    - [x]  Написаны выводы по результатам исследования\n",
    "- [x]  Выполнен шаг 4: проведено тестирование\n",
    "- [x]  Удалось достичь *F1*-меры не менее 0.59\n",
    "- [x]  Исследована метрика *AUC-ROC*"
   ]
  },
  {
   "cell_type": "code",
   "execution_count": null,
   "metadata": {},
   "outputs": [],
   "source": []
  }
 ],
 "metadata": {
  "ExecuteTimeLog": [
   {
    "duration": 401,
    "start_time": "2023-06-26T11:33:23.260Z"
   },
   {
    "duration": 93,
    "start_time": "2023-06-26T11:34:23.699Z"
   },
   {
    "duration": 12,
    "start_time": "2023-06-26T11:34:46.760Z"
   },
   {
    "duration": 19,
    "start_time": "2023-06-26T11:38:17.697Z"
   },
   {
    "duration": 59,
    "start_time": "2023-06-26T19:11:47.260Z"
   },
   {
    "duration": 3,
    "start_time": "2023-06-26T19:12:08.924Z"
   },
   {
    "duration": 13,
    "start_time": "2023-06-26T19:12:12.669Z"
   },
   {
    "duration": 7,
    "start_time": "2023-06-26T19:23:47.207Z"
   },
   {
    "duration": 7,
    "start_time": "2023-06-26T19:23:55.268Z"
   },
   {
    "duration": 32,
    "start_time": "2023-06-26T19:24:00.967Z"
   },
   {
    "duration": 1637,
    "start_time": "2023-06-26T19:29:09.606Z"
   },
   {
    "duration": 6,
    "start_time": "2023-06-26T19:29:26.523Z"
   },
   {
    "duration": 7,
    "start_time": "2023-06-26T19:29:44.002Z"
   },
   {
    "duration": 5,
    "start_time": "2023-06-26T19:30:05.247Z"
   },
   {
    "duration": 12,
    "start_time": "2023-06-26T19:31:01.455Z"
   },
   {
    "duration": 77,
    "start_time": "2023-06-26T19:34:42.467Z"
   },
   {
    "duration": 3,
    "start_time": "2023-06-26T19:34:48.159Z"
   },
   {
    "duration": 11,
    "start_time": "2023-06-26T19:46:33.331Z"
   },
   {
    "duration": 5,
    "start_time": "2023-06-26T19:46:35.863Z"
   },
   {
    "duration": 14,
    "start_time": "2023-06-26T19:47:06.814Z"
   },
   {
    "duration": 4,
    "start_time": "2023-06-26T19:47:27.351Z"
   },
   {
    "duration": 6,
    "start_time": "2023-06-26T20:08:26.647Z"
   },
   {
    "duration": 5,
    "start_time": "2023-06-26T20:08:49.014Z"
   },
   {
    "duration": 8,
    "start_time": "2023-06-26T20:09:09.935Z"
   },
   {
    "duration": 421,
    "start_time": "2023-06-26T20:18:52.352Z"
   },
   {
    "duration": 42,
    "start_time": "2023-06-26T20:18:52.776Z"
   },
   {
    "duration": 14,
    "start_time": "2023-06-26T20:18:52.819Z"
   },
   {
    "duration": 18,
    "start_time": "2023-06-26T20:18:52.835Z"
   },
   {
    "duration": 13,
    "start_time": "2023-06-26T20:18:52.855Z"
   },
   {
    "duration": 35,
    "start_time": "2023-06-26T20:18:52.869Z"
   },
   {
    "duration": 4,
    "start_time": "2023-06-26T20:18:52.906Z"
   },
   {
    "duration": 16,
    "start_time": "2023-06-26T20:18:52.911Z"
   },
   {
    "duration": 3,
    "start_time": "2023-06-26T20:18:52.929Z"
   },
   {
    "duration": 19,
    "start_time": "2023-06-26T20:18:52.933Z"
   },
   {
    "duration": 5,
    "start_time": "2023-06-26T20:18:52.975Z"
   },
   {
    "duration": 10,
    "start_time": "2023-06-26T20:18:52.982Z"
   },
   {
    "duration": 6,
    "start_time": "2023-06-26T20:23:23.352Z"
   },
   {
    "duration": 642,
    "start_time": "2023-06-26T20:26:50.998Z"
   },
   {
    "duration": 9,
    "start_time": "2023-06-26T20:32:04.729Z"
   },
   {
    "duration": 96,
    "start_time": "2023-06-26T20:32:05.544Z"
   },
   {
    "duration": 6,
    "start_time": "2023-06-26T20:32:31.149Z"
   },
   {
    "duration": 8,
    "start_time": "2023-06-26T20:33:17.807Z"
   },
   {
    "duration": 4,
    "start_time": "2023-06-26T20:33:21.775Z"
   },
   {
    "duration": 4,
    "start_time": "2023-06-26T20:33:45.605Z"
   },
   {
    "duration": 4,
    "start_time": "2023-06-26T20:34:48.222Z"
   },
   {
    "duration": 10,
    "start_time": "2023-06-26T20:35:01.109Z"
   },
   {
    "duration": 6,
    "start_time": "2023-06-26T20:35:01.757Z"
   },
   {
    "duration": 4,
    "start_time": "2023-06-26T20:35:04.194Z"
   },
   {
    "duration": 4,
    "start_time": "2023-06-26T20:35:05.061Z"
   },
   {
    "duration": 3,
    "start_time": "2023-06-26T20:35:24.821Z"
   },
   {
    "duration": 2,
    "start_time": "2023-06-26T20:54:22.274Z"
   },
   {
    "duration": 28,
    "start_time": "2023-06-26T20:54:50.261Z"
   },
   {
    "duration": 24,
    "start_time": "2023-06-26T20:58:07.645Z"
   },
   {
    "duration": 17,
    "start_time": "2023-06-26T20:58:20.365Z"
   },
   {
    "duration": 14,
    "start_time": "2023-06-26T20:58:30.233Z"
   },
   {
    "duration": 11,
    "start_time": "2023-06-26T20:58:56.141Z"
   },
   {
    "duration": 15,
    "start_time": "2023-06-26T20:59:19.135Z"
   },
   {
    "duration": 38,
    "start_time": "2023-06-26T20:59:30.367Z"
   },
   {
    "duration": 1126,
    "start_time": "2023-06-29T17:22:25.735Z"
   },
   {
    "duration": 3,
    "start_time": "2023-06-29T17:27:37.431Z"
   },
   {
    "duration": 154,
    "start_time": "2023-06-29T17:28:13.139Z"
   },
   {
    "duration": 1198,
    "start_time": "2023-06-29T17:28:32.790Z"
   },
   {
    "duration": 215,
    "start_time": "2023-06-29T17:28:33.990Z"
   },
   {
    "duration": 13,
    "start_time": "2023-06-29T17:28:34.207Z"
   },
   {
    "duration": 21,
    "start_time": "2023-06-29T17:28:34.223Z"
   },
   {
    "duration": 13,
    "start_time": "2023-06-29T17:28:34.246Z"
   },
   {
    "duration": 56,
    "start_time": "2023-06-29T17:28:34.260Z"
   },
   {
    "duration": 5,
    "start_time": "2023-06-29T17:28:34.317Z"
   },
   {
    "duration": 16,
    "start_time": "2023-06-29T17:28:34.324Z"
   },
   {
    "duration": 5,
    "start_time": "2023-06-29T17:28:34.341Z"
   },
   {
    "duration": 30,
    "start_time": "2023-06-29T17:28:34.348Z"
   },
   {
    "duration": 17,
    "start_time": "2023-06-29T17:28:34.380Z"
   },
   {
    "duration": 24,
    "start_time": "2023-06-29T17:28:34.399Z"
   },
   {
    "duration": 6,
    "start_time": "2023-06-29T17:28:34.425Z"
   },
   {
    "duration": 31,
    "start_time": "2023-06-29T17:28:34.433Z"
   },
   {
    "duration": 23,
    "start_time": "2023-06-29T17:28:34.466Z"
   },
   {
    "duration": 13,
    "start_time": "2023-06-29T17:28:34.491Z"
   },
   {
    "duration": 27,
    "start_time": "2023-06-29T17:28:34.505Z"
   },
   {
    "duration": 6,
    "start_time": "2023-06-29T17:28:34.534Z"
   },
   {
    "duration": 52,
    "start_time": "2023-06-29T17:28:34.542Z"
   },
   {
    "duration": 3,
    "start_time": "2023-06-29T17:28:37.875Z"
   },
   {
    "duration": 459446,
    "start_time": "2023-06-29T17:28:39.550Z"
   },
   {
    "duration": 4,
    "start_time": "2023-06-29T17:37:53.914Z"
   },
   {
    "duration": 4,
    "start_time": "2023-06-29T17:38:58.667Z"
   },
   {
    "duration": 81533,
    "start_time": "2023-06-29T17:39:01.619Z"
   },
   {
    "duration": 4,
    "start_time": "2023-06-29T17:41:10.447Z"
   },
   {
    "duration": 2,
    "start_time": "2023-06-29T17:44:48.640Z"
   },
   {
    "duration": 4,
    "start_time": "2023-06-29T18:18:29.709Z"
   },
   {
    "duration": 19,
    "start_time": "2023-06-29T18:18:37.809Z"
   },
   {
    "duration": 4,
    "start_time": "2023-06-29T18:20:54.359Z"
   },
   {
    "duration": 3,
    "start_time": "2023-06-29T18:21:19.529Z"
   },
   {
    "duration": 351772,
    "start_time": "2023-06-29T18:21:27.153Z"
   },
   {
    "duration": 5,
    "start_time": "2023-06-29T18:57:54.012Z"
   },
   {
    "duration": 4,
    "start_time": "2023-06-29T18:58:05.898Z"
   },
   {
    "duration": 3,
    "start_time": "2023-06-29T18:58:08.810Z"
   },
   {
    "duration": 4,
    "start_time": "2023-06-29T18:58:09.470Z"
   },
   {
    "duration": 3,
    "start_time": "2023-06-29T18:59:27.865Z"
   },
   {
    "duration": 35370,
    "start_time": "2023-06-29T18:59:28.698Z"
   },
   {
    "duration": 5,
    "start_time": "2023-06-29T19:00:06.169Z"
   },
   {
    "duration": 47663,
    "start_time": "2023-06-29T19:00:07.554Z"
   },
   {
    "duration": 5,
    "start_time": "2023-06-29T19:01:19.089Z"
   },
   {
    "duration": 5,
    "start_time": "2023-06-29T19:01:23.106Z"
   },
   {
    "duration": 2,
    "start_time": "2023-06-29T19:01:50.330Z"
   },
   {
    "duration": 3,
    "start_time": "2023-06-29T19:06:49.719Z"
   },
   {
    "duration": 4,
    "start_time": "2023-06-29T19:08:22.118Z"
   },
   {
    "duration": 3,
    "start_time": "2023-06-29T19:08:28.914Z"
   },
   {
    "duration": 12,
    "start_time": "2023-06-29T19:09:51.718Z"
   },
   {
    "duration": 37,
    "start_time": "2023-06-29T19:10:07.738Z"
   },
   {
    "duration": 4,
    "start_time": "2023-06-29T19:10:19.386Z"
   },
   {
    "duration": 35,
    "start_time": "2023-06-29T19:10:20.530Z"
   },
   {
    "duration": 3,
    "start_time": "2023-06-29T19:17:52.442Z"
   },
   {
    "duration": 3977,
    "start_time": "2023-06-29T19:18:06.863Z"
   },
   {
    "duration": 4,
    "start_time": "2023-06-29T19:18:21.407Z"
   },
   {
    "duration": 4,
    "start_time": "2023-06-29T19:18:30.499Z"
   },
   {
    "duration": 4,
    "start_time": "2023-06-29T19:19:53.926Z"
   },
   {
    "duration": 10939,
    "start_time": "2023-06-29T19:19:54.989Z"
   },
   {
    "duration": 4,
    "start_time": "2023-06-29T19:20:09.593Z"
   },
   {
    "duration": 44651,
    "start_time": "2023-06-29T19:20:12.126Z"
   },
   {
    "duration": 4,
    "start_time": "2023-06-29T19:22:09.622Z"
   },
   {
    "duration": 0,
    "start_time": "2023-06-29T19:23:04.456Z"
   },
   {
    "duration": 0,
    "start_time": "2023-06-29T19:23:04.457Z"
   },
   {
    "duration": 0,
    "start_time": "2023-06-29T19:23:04.458Z"
   },
   {
    "duration": 0,
    "start_time": "2023-06-29T19:23:04.459Z"
   },
   {
    "duration": 0,
    "start_time": "2023-06-29T19:23:04.460Z"
   },
   {
    "duration": 0,
    "start_time": "2023-06-29T19:23:04.461Z"
   },
   {
    "duration": 0,
    "start_time": "2023-06-29T19:23:04.462Z"
   },
   {
    "duration": 0,
    "start_time": "2023-06-29T19:23:04.463Z"
   },
   {
    "duration": 0,
    "start_time": "2023-06-29T19:23:04.464Z"
   },
   {
    "duration": 0,
    "start_time": "2023-06-29T19:23:04.465Z"
   },
   {
    "duration": 0,
    "start_time": "2023-06-29T19:23:04.466Z"
   },
   {
    "duration": 0,
    "start_time": "2023-06-29T19:23:04.467Z"
   },
   {
    "duration": 0,
    "start_time": "2023-06-29T19:23:04.468Z"
   },
   {
    "duration": 0,
    "start_time": "2023-06-29T19:23:04.469Z"
   },
   {
    "duration": 0,
    "start_time": "2023-06-29T19:23:04.470Z"
   },
   {
    "duration": 0,
    "start_time": "2023-06-29T19:23:04.471Z"
   },
   {
    "duration": 0,
    "start_time": "2023-06-29T19:23:04.472Z"
   },
   {
    "duration": 0,
    "start_time": "2023-06-29T19:23:04.514Z"
   },
   {
    "duration": 0,
    "start_time": "2023-06-29T19:23:04.515Z"
   },
   {
    "duration": 0,
    "start_time": "2023-06-29T19:23:04.517Z"
   },
   {
    "duration": 0,
    "start_time": "2023-06-29T19:23:04.518Z"
   },
   {
    "duration": 0,
    "start_time": "2023-06-29T19:23:04.519Z"
   },
   {
    "duration": 0,
    "start_time": "2023-06-29T19:23:04.520Z"
   },
   {
    "duration": 0,
    "start_time": "2023-06-29T19:23:04.521Z"
   },
   {
    "duration": 0,
    "start_time": "2023-06-29T19:23:04.522Z"
   },
   {
    "duration": 0,
    "start_time": "2023-06-29T19:23:04.523Z"
   },
   {
    "duration": 0,
    "start_time": "2023-06-29T19:23:04.524Z"
   },
   {
    "duration": 0,
    "start_time": "2023-06-29T19:23:04.525Z"
   },
   {
    "duration": 0,
    "start_time": "2023-06-29T19:23:04.526Z"
   },
   {
    "duration": 1125,
    "start_time": "2023-06-29T19:23:35.019Z"
   },
   {
    "duration": 41,
    "start_time": "2023-06-29T19:23:36.146Z"
   },
   {
    "duration": 13,
    "start_time": "2023-06-29T19:23:36.188Z"
   },
   {
    "duration": 29,
    "start_time": "2023-06-29T19:23:36.203Z"
   },
   {
    "duration": 28,
    "start_time": "2023-06-29T19:23:36.234Z"
   },
   {
    "duration": 46,
    "start_time": "2023-06-29T19:23:36.263Z"
   },
   {
    "duration": 5,
    "start_time": "2023-06-29T19:23:36.310Z"
   },
   {
    "duration": 15,
    "start_time": "2023-06-29T19:23:36.316Z"
   },
   {
    "duration": 4,
    "start_time": "2023-06-29T19:23:36.333Z"
   },
   {
    "duration": 25,
    "start_time": "2023-06-29T19:23:36.339Z"
   },
   {
    "duration": 11,
    "start_time": "2023-06-29T19:23:36.366Z"
   },
   {
    "duration": 18,
    "start_time": "2023-06-29T19:23:36.378Z"
   },
   {
    "duration": 5,
    "start_time": "2023-06-29T19:23:36.398Z"
   },
   {
    "duration": 14,
    "start_time": "2023-06-29T19:23:36.405Z"
   },
   {
    "duration": 7,
    "start_time": "2023-06-29T19:23:36.420Z"
   },
   {
    "duration": 10,
    "start_time": "2023-06-29T19:23:36.429Z"
   },
   {
    "duration": 5,
    "start_time": "2023-06-29T19:23:36.441Z"
   },
   {
    "duration": 8,
    "start_time": "2023-06-29T19:23:36.448Z"
   },
   {
    "duration": 50,
    "start_time": "2023-06-29T19:23:36.457Z"
   },
   {
    "duration": 3,
    "start_time": "2023-06-29T19:23:36.514Z"
   },
   {
    "duration": 46749,
    "start_time": "2023-06-29T19:23:36.519Z"
   },
   {
    "duration": 4,
    "start_time": "2023-06-29T19:24:23.270Z"
   },
   {
    "duration": 11,
    "start_time": "2023-06-29T19:24:23.275Z"
   },
   {
    "duration": 7,
    "start_time": "2023-06-29T19:24:23.288Z"
   },
   {
    "duration": 44,
    "start_time": "2023-06-29T19:24:23.297Z"
   },
   {
    "duration": 3,
    "start_time": "2023-06-29T19:24:23.343Z"
   },
   {
    "duration": 785,
    "start_time": "2023-06-29T19:24:23.348Z"
   },
   {
    "duration": 4,
    "start_time": "2023-06-29T19:24:24.136Z"
   },
   {
    "duration": 12,
    "start_time": "2023-06-29T19:24:24.142Z"
   },
   {
    "duration": 2,
    "start_time": "2023-06-29T19:24:31.129Z"
   },
   {
    "duration": 13,
    "start_time": "2023-06-29T19:24:32.599Z"
   },
   {
    "duration": 58,
    "start_time": "2023-06-29T19:26:55.215Z"
   },
   {
    "duration": 4,
    "start_time": "2023-06-29T19:28:59.823Z"
   },
   {
    "duration": 746,
    "start_time": "2023-06-29T19:29:12.868Z"
   },
   {
    "duration": 4,
    "start_time": "2023-06-29T19:29:39.275Z"
   },
   {
    "duration": 3,
    "start_time": "2023-06-29T19:29:47.280Z"
   },
   {
    "duration": 104,
    "start_time": "2023-06-29T19:32:20.900Z"
   },
   {
    "duration": 2,
    "start_time": "2023-06-29T19:32:25.503Z"
   },
   {
    "duration": 17,
    "start_time": "2023-06-29T19:32:27.191Z"
   },
   {
    "duration": 456,
    "start_time": "2023-06-29T19:36:32.127Z"
   },
   {
    "duration": 3,
    "start_time": "2023-06-29T19:38:17.364Z"
   },
   {
    "duration": 4,
    "start_time": "2023-06-29T19:40:34.499Z"
   },
   {
    "duration": 5,
    "start_time": "2023-06-29T19:41:50.035Z"
   },
   {
    "duration": 155,
    "start_time": "2023-06-29T19:43:00.835Z"
   },
   {
    "duration": 191,
    "start_time": "2023-06-29T19:44:53.525Z"
   },
   {
    "duration": 6,
    "start_time": "2023-06-29T19:45:00.804Z"
   },
   {
    "duration": 175,
    "start_time": "2023-06-29T19:45:09.480Z"
   },
   {
    "duration": 131,
    "start_time": "2023-06-29T19:45:43.283Z"
   },
   {
    "duration": 385,
    "start_time": "2023-06-29T19:46:32.468Z"
   },
   {
    "duration": 339,
    "start_time": "2023-06-29T20:23:44.202Z"
   },
   {
    "duration": 31,
    "start_time": "2023-06-29T20:24:44.813Z"
   },
   {
    "duration": 31,
    "start_time": "2023-06-29T20:26:54.694Z"
   },
   {
    "duration": 4,
    "start_time": "2023-06-29T20:33:54.938Z"
   },
   {
    "duration": 30,
    "start_time": "2023-06-29T20:34:53.366Z"
   },
   {
    "duration": 4,
    "start_time": "2023-06-29T20:35:27.594Z"
   },
   {
    "duration": 4,
    "start_time": "2023-06-29T20:35:32.705Z"
   },
   {
    "duration": 13,
    "start_time": "2023-06-29T20:35:33.957Z"
   },
   {
    "duration": 497,
    "start_time": "2023-06-29T20:36:20.941Z"
   },
   {
    "duration": 38,
    "start_time": "2023-06-29T20:36:55.600Z"
   },
   {
    "duration": 39,
    "start_time": "2023-06-29T20:37:13.061Z"
   },
   {
    "duration": 77,
    "start_time": "2023-06-29T20:37:40.142Z"
   },
   {
    "duration": 974,
    "start_time": "2023-06-29T20:40:47.754Z"
   },
   {
    "duration": 7,
    "start_time": "2023-06-29T20:41:03.601Z"
   },
   {
    "duration": 13,
    "start_time": "2023-06-29T20:41:21.418Z"
   },
   {
    "duration": 7,
    "start_time": "2023-06-29T20:41:22.597Z"
   },
   {
    "duration": 12,
    "start_time": "2023-06-29T20:41:39.338Z"
   },
   {
    "duration": 11,
    "start_time": "2023-06-29T20:41:44.346Z"
   },
   {
    "duration": 7,
    "start_time": "2023-06-29T20:41:45.489Z"
   },
   {
    "duration": 11,
    "start_time": "2023-06-29T20:41:50.530Z"
   },
   {
    "duration": 6,
    "start_time": "2023-06-29T20:41:51.354Z"
   },
   {
    "duration": 14,
    "start_time": "2023-06-29T20:42:49.738Z"
   },
   {
    "duration": 6,
    "start_time": "2023-06-29T20:42:50.713Z"
   },
   {
    "duration": 202,
    "start_time": "2023-06-29T20:43:36.894Z"
   },
   {
    "duration": 70,
    "start_time": "2023-06-29T20:44:09.561Z"
   },
   {
    "duration": 24,
    "start_time": "2023-06-29T20:44:42.927Z"
   },
   {
    "duration": 51,
    "start_time": "2023-06-30T05:00:01.334Z"
   },
   {
    "duration": 1600,
    "start_time": "2023-06-30T05:00:15.654Z"
   },
   {
    "duration": 77,
    "start_time": "2023-06-30T05:00:17.255Z"
   },
   {
    "duration": 11,
    "start_time": "2023-06-30T05:00:17.333Z"
   },
   {
    "duration": 14,
    "start_time": "2023-06-30T05:00:17.345Z"
   },
   {
    "duration": 14,
    "start_time": "2023-06-30T05:00:17.362Z"
   },
   {
    "duration": 31,
    "start_time": "2023-06-30T05:00:17.377Z"
   },
   {
    "duration": 4,
    "start_time": "2023-06-30T05:00:17.409Z"
   },
   {
    "duration": 20,
    "start_time": "2023-06-30T05:00:17.414Z"
   },
   {
    "duration": 7,
    "start_time": "2023-06-30T05:00:17.436Z"
   },
   {
    "duration": 13,
    "start_time": "2023-06-30T05:00:17.444Z"
   },
   {
    "duration": 4,
    "start_time": "2023-06-30T05:00:17.459Z"
   },
   {
    "duration": 12,
    "start_time": "2023-06-30T05:00:17.464Z"
   },
   {
    "duration": 4,
    "start_time": "2023-06-30T05:00:17.477Z"
   },
   {
    "duration": 22,
    "start_time": "2023-06-30T05:00:17.485Z"
   },
   {
    "duration": 10,
    "start_time": "2023-06-30T05:00:17.508Z"
   },
   {
    "duration": 14,
    "start_time": "2023-06-30T05:00:17.520Z"
   },
   {
    "duration": 17,
    "start_time": "2023-06-30T05:00:17.536Z"
   },
   {
    "duration": 7,
    "start_time": "2023-06-30T05:00:17.554Z"
   },
   {
    "duration": 41,
    "start_time": "2023-06-30T05:00:17.563Z"
   },
   {
    "duration": 3,
    "start_time": "2023-06-30T05:00:17.606Z"
   },
   {
    "duration": 42717,
    "start_time": "2023-06-30T05:00:17.610Z"
   },
   {
    "duration": 4,
    "start_time": "2023-06-30T05:01:00.329Z"
   },
   {
    "duration": 33,
    "start_time": "2023-06-30T05:01:00.334Z"
   },
   {
    "duration": 34,
    "start_time": "2023-06-30T05:01:00.369Z"
   },
   {
    "duration": 77,
    "start_time": "2023-06-30T05:01:00.405Z"
   },
   {
    "duration": 4,
    "start_time": "2023-06-30T05:01:00.484Z"
   },
   {
    "duration": 199,
    "start_time": "2023-06-30T05:01:00.490Z"
   },
   {
    "duration": 3,
    "start_time": "2023-06-30T05:01:00.690Z"
   },
   {
    "duration": 652,
    "start_time": "2023-06-30T05:01:00.699Z"
   },
   {
    "duration": 48,
    "start_time": "2023-06-30T05:01:01.353Z"
   },
   {
    "duration": 7,
    "start_time": "2023-06-30T05:01:01.402Z"
   },
   {
    "duration": 56,
    "start_time": "2023-06-30T05:01:01.411Z"
   },
   {
    "duration": 151,
    "start_time": "2023-06-30T05:01:01.469Z"
   },
   {
    "duration": 3,
    "start_time": "2023-06-30T05:01:01.621Z"
   },
   {
    "duration": 698,
    "start_time": "2023-06-30T05:01:01.625Z"
   },
   {
    "duration": 4,
    "start_time": "2023-06-30T05:01:02.325Z"
   },
   {
    "duration": 45,
    "start_time": "2023-06-30T05:01:02.331Z"
   },
   {
    "duration": 123,
    "start_time": "2023-06-30T05:01:02.378Z"
   },
   {
    "duration": 373,
    "start_time": "2023-06-30T05:01:02.503Z"
   },
   {
    "duration": 338,
    "start_time": "2023-06-30T05:01:02.878Z"
   },
   {
    "duration": 30,
    "start_time": "2023-06-30T05:01:03.220Z"
   },
   {
    "duration": 149,
    "start_time": "2023-06-30T05:01:03.251Z"
   },
   {
    "duration": 4,
    "start_time": "2023-06-30T05:01:03.401Z"
   },
   {
    "duration": 12,
    "start_time": "2023-06-30T05:01:03.406Z"
   },
   {
    "duration": 6,
    "start_time": "2023-06-30T05:01:03.419Z"
   },
   {
    "duration": 500,
    "start_time": "2023-06-30T05:01:03.426Z"
   },
   {
    "duration": 34,
    "start_time": "2023-06-30T05:01:03.927Z"
   },
   {
    "duration": 43,
    "start_time": "2023-06-30T05:01:03.963Z"
   },
   {
    "duration": 227,
    "start_time": "2023-06-30T05:01:04.007Z"
   },
   {
    "duration": 15,
    "start_time": "2023-06-30T05:01:04.235Z"
   },
   {
    "duration": 183,
    "start_time": "2023-06-30T05:01:04.251Z"
   },
   {
    "duration": 19,
    "start_time": "2023-06-30T05:01:04.436Z"
   },
   {
    "duration": 149,
    "start_time": "2023-06-30T05:01:04.456Z"
   },
   {
    "duration": 488,
    "start_time": "2023-06-30T05:01:41.929Z"
   },
   {
    "duration": 128,
    "start_time": "2023-06-30T05:04:36.622Z"
   },
   {
    "duration": 124,
    "start_time": "2023-06-30T05:05:07.950Z"
   },
   {
    "duration": 2,
    "start_time": "2023-06-30T05:10:45.266Z"
   },
   {
    "duration": 4,
    "start_time": "2023-06-30T05:11:10.316Z"
   },
   {
    "duration": 7,
    "start_time": "2023-06-30T05:15:38.254Z"
   },
   {
    "duration": 170,
    "start_time": "2023-06-30T05:17:05.823Z"
   },
   {
    "duration": 508,
    "start_time": "2023-06-30T05:32:04.401Z"
   },
   {
    "duration": 145,
    "start_time": "2023-06-30T05:32:06.058Z"
   },
   {
    "duration": 35,
    "start_time": "2023-06-30T05:32:47.493Z"
   },
   {
    "duration": 107,
    "start_time": "2023-06-30T05:32:48.214Z"
   },
   {
    "duration": 32,
    "start_time": "2023-06-30T05:33:11.998Z"
   },
   {
    "duration": 271,
    "start_time": "2023-06-30T05:33:12.681Z"
   },
   {
    "duration": 190,
    "start_time": "2023-06-30T05:33:38.490Z"
   },
   {
    "duration": 124,
    "start_time": "2023-06-30T05:33:43.302Z"
   },
   {
    "duration": 23,
    "start_time": "2023-06-30T05:34:02.445Z"
   },
   {
    "duration": 112,
    "start_time": "2023-06-30T05:34:03.021Z"
   },
   {
    "duration": 284,
    "start_time": "2023-06-30T05:34:18.406Z"
   },
   {
    "duration": 62,
    "start_time": "2023-06-30T05:34:21.243Z"
   },
   {
    "duration": 238,
    "start_time": "2023-06-30T05:34:22.142Z"
   },
   {
    "duration": 365,
    "start_time": "2023-06-30T05:35:04.734Z"
   },
   {
    "duration": 146,
    "start_time": "2023-06-30T05:35:05.845Z"
   },
   {
    "duration": 31,
    "start_time": "2023-06-30T05:35:17.197Z"
   },
   {
    "duration": 109,
    "start_time": "2023-06-30T05:35:23.645Z"
   },
   {
    "duration": 106,
    "start_time": "2023-06-30T05:35:51.894Z"
   },
   {
    "duration": 298,
    "start_time": "2023-06-30T05:35:52.690Z"
   },
   {
    "duration": 1321,
    "start_time": "2023-06-30T05:36:02.871Z"
   },
   {
    "duration": 42,
    "start_time": "2023-06-30T05:36:04.193Z"
   },
   {
    "duration": 12,
    "start_time": "2023-06-30T05:36:04.236Z"
   },
   {
    "duration": 15,
    "start_time": "2023-06-30T05:36:04.250Z"
   },
   {
    "duration": 11,
    "start_time": "2023-06-30T05:36:04.268Z"
   },
   {
    "duration": 35,
    "start_time": "2023-06-30T05:36:04.280Z"
   },
   {
    "duration": 4,
    "start_time": "2023-06-30T05:36:04.316Z"
   },
   {
    "duration": 13,
    "start_time": "2023-06-30T05:36:04.321Z"
   },
   {
    "duration": 4,
    "start_time": "2023-06-30T05:36:04.335Z"
   },
   {
    "duration": 21,
    "start_time": "2023-06-30T05:36:04.341Z"
   },
   {
    "duration": 6,
    "start_time": "2023-06-30T05:36:04.363Z"
   },
   {
    "duration": 34,
    "start_time": "2023-06-30T05:36:04.371Z"
   },
   {
    "duration": 6,
    "start_time": "2023-06-30T05:36:04.407Z"
   },
   {
    "duration": 12,
    "start_time": "2023-06-30T05:36:04.416Z"
   },
   {
    "duration": 6,
    "start_time": "2023-06-30T05:36:04.429Z"
   },
   {
    "duration": 27,
    "start_time": "2023-06-30T05:36:04.436Z"
   },
   {
    "duration": 4,
    "start_time": "2023-06-30T05:36:04.465Z"
   },
   {
    "duration": 5,
    "start_time": "2023-06-30T05:36:04.470Z"
   },
   {
    "duration": 48,
    "start_time": "2023-06-30T05:36:04.476Z"
   },
   {
    "duration": 3,
    "start_time": "2023-06-30T05:36:04.526Z"
   },
   {
    "duration": 47535,
    "start_time": "2023-06-30T05:36:04.531Z"
   },
   {
    "duration": 4,
    "start_time": "2023-06-30T05:36:52.068Z"
   },
   {
    "duration": 26,
    "start_time": "2023-06-30T05:36:52.074Z"
   },
   {
    "duration": 7,
    "start_time": "2023-06-30T05:36:52.102Z"
   },
   {
    "duration": 40,
    "start_time": "2023-06-30T05:36:52.111Z"
   },
   {
    "duration": 4,
    "start_time": "2023-06-30T05:36:52.153Z"
   },
   {
    "duration": 135,
    "start_time": "2023-06-30T05:36:52.158Z"
   },
   {
    "duration": 2,
    "start_time": "2023-06-30T05:36:52.299Z"
   },
   {
    "duration": 709,
    "start_time": "2023-06-30T05:36:52.303Z"
   },
   {
    "duration": 4,
    "start_time": "2023-06-30T05:36:53.014Z"
   },
   {
    "duration": 7,
    "start_time": "2023-06-30T05:36:53.019Z"
   },
   {
    "duration": 14,
    "start_time": "2023-06-30T05:36:53.027Z"
   },
   {
    "duration": 122,
    "start_time": "2023-06-30T05:36:53.042Z"
   },
   {
    "duration": 3,
    "start_time": "2023-06-30T05:36:53.166Z"
   },
   {
    "duration": 668,
    "start_time": "2023-06-30T05:36:53.170Z"
   },
   {
    "duration": 4,
    "start_time": "2023-06-30T05:36:53.840Z"
   },
   {
    "duration": 11,
    "start_time": "2023-06-30T05:36:53.846Z"
   },
   {
    "duration": 143,
    "start_time": "2023-06-30T05:36:53.858Z"
   },
   {
    "duration": 278,
    "start_time": "2023-06-30T05:36:54.003Z"
   },
   {
    "duration": 390,
    "start_time": "2023-06-30T05:36:54.283Z"
   },
   {
    "duration": 155,
    "start_time": "2023-06-30T05:36:54.678Z"
   },
   {
    "duration": 32,
    "start_time": "2023-06-30T05:36:54.834Z"
   },
   {
    "duration": 190,
    "start_time": "2023-06-30T05:36:54.867Z"
   },
   {
    "duration": 50,
    "start_time": "2023-06-30T05:36:55.058Z"
   },
   {
    "duration": 370,
    "start_time": "2023-06-30T05:36:55.110Z"
   },
   {
    "duration": 4,
    "start_time": "2023-06-30T05:36:55.481Z"
   },
   {
    "duration": 19,
    "start_time": "2023-06-30T05:36:55.487Z"
   },
   {
    "duration": 6,
    "start_time": "2023-06-30T05:36:55.508Z"
   },
   {
    "duration": 509,
    "start_time": "2023-06-30T05:36:55.516Z"
   },
   {
    "duration": 192,
    "start_time": "2023-06-30T05:36:56.028Z"
   },
   {
    "duration": 36,
    "start_time": "2023-06-30T05:36:56.221Z"
   },
   {
    "duration": 121,
    "start_time": "2023-06-30T05:36:56.259Z"
   },
   {
    "duration": 40,
    "start_time": "2023-06-30T05:36:56.381Z"
   },
   {
    "duration": 298,
    "start_time": "2023-06-30T05:36:56.501Z"
   },
   {
    "duration": 10,
    "start_time": "2023-06-30T05:36:56.801Z"
   },
   {
    "duration": 5,
    "start_time": "2023-06-30T05:36:56.812Z"
   },
   {
    "duration": 209,
    "start_time": "2023-06-30T05:36:56.819Z"
   },
   {
    "duration": 135,
    "start_time": "2023-06-30T05:36:57.030Z"
   },
   {
    "duration": 36,
    "start_time": "2023-06-30T05:36:57.167Z"
   },
   {
    "duration": 122,
    "start_time": "2023-06-30T05:36:57.205Z"
   },
   {
    "duration": 173,
    "start_time": "2023-06-30T05:36:57.328Z"
   },
   {
    "duration": 283,
    "start_time": "2023-06-30T05:36:57.503Z"
   },
   {
    "duration": 517,
    "start_time": "2023-06-30T05:36:57.799Z"
   },
   {
    "duration": 137,
    "start_time": "2023-06-30T05:36:58.318Z"
   },
   {
    "duration": 1347,
    "start_time": "2023-06-30T05:41:44.141Z"
   },
   {
    "duration": 43,
    "start_time": "2023-06-30T05:41:45.490Z"
   },
   {
    "duration": 14,
    "start_time": "2023-06-30T05:41:45.534Z"
   },
   {
    "duration": 19,
    "start_time": "2023-06-30T05:41:45.551Z"
   },
   {
    "duration": 15,
    "start_time": "2023-06-30T05:41:45.571Z"
   },
   {
    "duration": 55,
    "start_time": "2023-06-30T05:41:45.588Z"
   },
   {
    "duration": 4,
    "start_time": "2023-06-30T05:41:45.645Z"
   },
   {
    "duration": 30,
    "start_time": "2023-06-30T05:41:45.651Z"
   },
   {
    "duration": 18,
    "start_time": "2023-06-30T05:41:45.683Z"
   },
   {
    "duration": 18,
    "start_time": "2023-06-30T05:41:45.705Z"
   },
   {
    "duration": 6,
    "start_time": "2023-06-30T05:41:45.725Z"
   },
   {
    "duration": 19,
    "start_time": "2023-06-30T05:41:45.732Z"
   },
   {
    "duration": 9,
    "start_time": "2023-06-30T05:41:45.753Z"
   },
   {
    "duration": 7,
    "start_time": "2023-06-30T05:41:45.763Z"
   },
   {
    "duration": 6,
    "start_time": "2023-06-30T05:41:45.772Z"
   },
   {
    "duration": 20,
    "start_time": "2023-06-30T05:41:45.779Z"
   },
   {
    "duration": 5,
    "start_time": "2023-06-30T05:41:45.801Z"
   },
   {
    "duration": 25,
    "start_time": "2023-06-30T05:41:45.808Z"
   },
   {
    "duration": 47,
    "start_time": "2023-06-30T05:41:45.835Z"
   },
   {
    "duration": 4,
    "start_time": "2023-06-30T05:41:45.884Z"
   },
   {
    "duration": 49755,
    "start_time": "2023-06-30T05:41:45.900Z"
   },
   {
    "duration": 4,
    "start_time": "2023-06-30T05:42:35.657Z"
   },
   {
    "duration": 17,
    "start_time": "2023-06-30T05:42:35.663Z"
   },
   {
    "duration": 11,
    "start_time": "2023-06-30T05:42:35.681Z"
   },
   {
    "duration": 39,
    "start_time": "2023-06-30T05:42:35.694Z"
   },
   {
    "duration": 6,
    "start_time": "2023-06-30T05:42:35.734Z"
   },
   {
    "duration": 198,
    "start_time": "2023-06-30T05:42:35.742Z"
   },
   {
    "duration": 4,
    "start_time": "2023-06-30T05:42:35.946Z"
   },
   {
    "duration": 771,
    "start_time": "2023-06-30T05:42:35.951Z"
   },
   {
    "duration": 5,
    "start_time": "2023-06-30T05:42:36.724Z"
   },
   {
    "duration": 8,
    "start_time": "2023-06-30T05:42:36.731Z"
   },
   {
    "duration": 19,
    "start_time": "2023-06-30T05:42:36.740Z"
   },
   {
    "duration": 160,
    "start_time": "2023-06-30T05:42:36.760Z"
   },
   {
    "duration": 4,
    "start_time": "2023-06-30T05:42:36.922Z"
   },
   {
    "duration": 815,
    "start_time": "2023-06-30T05:42:36.927Z"
   },
   {
    "duration": 4,
    "start_time": "2023-06-30T05:42:37.744Z"
   },
   {
    "duration": 9,
    "start_time": "2023-06-30T05:42:37.750Z"
   },
   {
    "duration": 139,
    "start_time": "2023-06-30T05:42:37.761Z"
   },
   {
    "duration": 376,
    "start_time": "2023-06-30T05:42:37.906Z"
   },
   {
    "duration": 362,
    "start_time": "2023-06-30T05:42:38.284Z"
   },
   {
    "duration": 124,
    "start_time": "2023-06-30T05:42:38.647Z"
   },
   {
    "duration": 44,
    "start_time": "2023-06-30T05:42:38.772Z"
   },
   {
    "duration": 170,
    "start_time": "2023-06-30T05:42:38.817Z"
   },
   {
    "duration": 30,
    "start_time": "2023-06-30T05:42:38.988Z"
   },
   {
    "duration": 345,
    "start_time": "2023-06-30T05:42:39.019Z"
   },
   {
    "duration": 4,
    "start_time": "2023-06-30T05:42:39.366Z"
   },
   {
    "duration": 11,
    "start_time": "2023-06-30T05:42:39.371Z"
   },
   {
    "duration": 20,
    "start_time": "2023-06-30T05:42:39.383Z"
   },
   {
    "duration": 508,
    "start_time": "2023-06-30T05:42:39.406Z"
   },
   {
    "duration": 128,
    "start_time": "2023-06-30T05:42:39.916Z"
   },
   {
    "duration": 37,
    "start_time": "2023-06-30T05:42:40.046Z"
   },
   {
    "duration": 123,
    "start_time": "2023-06-30T05:42:40.085Z"
   },
   {
    "duration": 189,
    "start_time": "2023-06-30T05:42:40.210Z"
   },
   {
    "duration": 281,
    "start_time": "2023-06-30T05:42:40.400Z"
   },
   {
    "duration": 21,
    "start_time": "2023-06-30T05:42:40.682Z"
   },
   {
    "duration": 7,
    "start_time": "2023-06-30T05:42:40.705Z"
   },
   {
    "duration": 207,
    "start_time": "2023-06-30T05:42:40.713Z"
   },
   {
    "duration": 129,
    "start_time": "2023-06-30T05:42:40.922Z"
   },
   {
    "duration": 20,
    "start_time": "2023-06-30T05:42:41.052Z"
   },
   {
    "duration": 125,
    "start_time": "2023-06-30T05:42:41.074Z"
   },
   {
    "duration": 105,
    "start_time": "2023-06-30T05:42:41.201Z"
   },
   {
    "duration": 405,
    "start_time": "2023-06-30T05:42:41.307Z"
   },
   {
    "duration": 470,
    "start_time": "2023-06-30T05:42:41.713Z"
   },
   {
    "duration": 129,
    "start_time": "2023-06-30T05:42:42.184Z"
   },
   {
    "duration": 3,
    "start_time": "2023-07-01T06:06:31.537Z"
   },
   {
    "duration": 6,
    "start_time": "2023-07-01T06:20:39.486Z"
   },
   {
    "duration": 1538,
    "start_time": "2023-07-01T06:22:54.306Z"
   },
   {
    "duration": 1240,
    "start_time": "2023-07-01T06:23:28.683Z"
   },
   {
    "duration": 76,
    "start_time": "2023-07-01T06:23:29.925Z"
   },
   {
    "duration": 13,
    "start_time": "2023-07-01T06:23:30.003Z"
   },
   {
    "duration": 33,
    "start_time": "2023-07-01T06:23:30.017Z"
   },
   {
    "duration": 20,
    "start_time": "2023-07-01T06:23:30.052Z"
   },
   {
    "duration": 53,
    "start_time": "2023-07-01T06:23:30.074Z"
   },
   {
    "duration": 12,
    "start_time": "2023-07-01T06:23:30.128Z"
   },
   {
    "duration": 33,
    "start_time": "2023-07-01T06:23:30.142Z"
   },
   {
    "duration": 23,
    "start_time": "2023-07-01T06:23:30.177Z"
   },
   {
    "duration": 24,
    "start_time": "2023-07-01T06:23:30.202Z"
   },
   {
    "duration": 27,
    "start_time": "2023-07-01T06:23:30.227Z"
   },
   {
    "duration": 38,
    "start_time": "2023-07-01T06:23:30.256Z"
   },
   {
    "duration": 20,
    "start_time": "2023-07-01T06:23:30.296Z"
   },
   {
    "duration": 52,
    "start_time": "2023-07-01T06:23:30.317Z"
   },
   {
    "duration": 29,
    "start_time": "2023-07-01T06:23:30.371Z"
   },
   {
    "duration": 21,
    "start_time": "2023-07-01T06:23:30.402Z"
   },
   {
    "duration": 14,
    "start_time": "2023-07-01T06:23:30.425Z"
   },
   {
    "duration": 30,
    "start_time": "2023-07-01T06:23:30.441Z"
   },
   {
    "duration": 3,
    "start_time": "2023-07-01T06:23:37.135Z"
   },
   {
    "duration": 104,
    "start_time": "2023-07-01T06:24:22.715Z"
   },
   {
    "duration": 6402,
    "start_time": "2023-07-01T06:24:51.338Z"
   },
   {
    "duration": 16,
    "start_time": "2023-07-01T06:25:07.287Z"
   },
   {
    "duration": 1963,
    "start_time": "2023-07-01T06:25:35.574Z"
   },
   {
    "duration": 1106,
    "start_time": "2023-07-01T06:25:37.539Z"
   },
   {
    "duration": 38,
    "start_time": "2023-07-01T06:25:38.647Z"
   },
   {
    "duration": 14,
    "start_time": "2023-07-01T06:25:38.687Z"
   },
   {
    "duration": 16,
    "start_time": "2023-07-01T06:25:38.703Z"
   },
   {
    "duration": 20,
    "start_time": "2023-07-01T06:25:38.720Z"
   },
   {
    "duration": 32,
    "start_time": "2023-07-01T06:25:38.741Z"
   },
   {
    "duration": 4,
    "start_time": "2023-07-01T06:25:38.775Z"
   },
   {
    "duration": 11,
    "start_time": "2023-07-01T06:25:38.781Z"
   },
   {
    "duration": 4,
    "start_time": "2023-07-01T06:25:38.794Z"
   },
   {
    "duration": 8,
    "start_time": "2023-07-01T06:25:38.799Z"
   },
   {
    "duration": 25,
    "start_time": "2023-07-01T06:25:38.808Z"
   },
   {
    "duration": 15,
    "start_time": "2023-07-01T06:25:38.834Z"
   },
   {
    "duration": 12,
    "start_time": "2023-07-01T06:25:38.851Z"
   },
   {
    "duration": 16,
    "start_time": "2023-07-01T06:25:38.864Z"
   },
   {
    "duration": 5,
    "start_time": "2023-07-01T06:25:38.881Z"
   },
   {
    "duration": 3,
    "start_time": "2023-07-01T06:25:38.888Z"
   },
   {
    "duration": 6,
    "start_time": "2023-07-01T06:25:38.892Z"
   },
   {
    "duration": 4,
    "start_time": "2023-07-01T06:25:38.900Z"
   },
   {
    "duration": 7,
    "start_time": "2023-07-01T06:25:55.295Z"
   },
   {
    "duration": 52,
    "start_time": "2023-07-01T06:33:01.011Z"
   },
   {
    "duration": 2545,
    "start_time": "2023-07-01T06:34:13.900Z"
   },
   {
    "duration": 1140,
    "start_time": "2023-07-01T06:34:16.447Z"
   },
   {
    "duration": 41,
    "start_time": "2023-07-01T06:34:17.589Z"
   },
   {
    "duration": 20,
    "start_time": "2023-07-01T06:34:17.632Z"
   },
   {
    "duration": 19,
    "start_time": "2023-07-01T06:34:17.654Z"
   },
   {
    "duration": 23,
    "start_time": "2023-07-01T06:34:17.675Z"
   },
   {
    "duration": 47,
    "start_time": "2023-07-01T06:34:17.700Z"
   },
   {
    "duration": 9,
    "start_time": "2023-07-01T06:34:17.749Z"
   },
   {
    "duration": 24,
    "start_time": "2023-07-01T06:34:17.760Z"
   },
   {
    "duration": 9,
    "start_time": "2023-07-01T06:34:17.787Z"
   },
   {
    "duration": 6,
    "start_time": "2023-07-01T06:34:17.798Z"
   },
   {
    "duration": 11,
    "start_time": "2023-07-01T06:34:17.806Z"
   },
   {
    "duration": 26,
    "start_time": "2023-07-01T06:34:17.819Z"
   },
   {
    "duration": 16,
    "start_time": "2023-07-01T06:34:17.847Z"
   },
   {
    "duration": 11,
    "start_time": "2023-07-01T06:34:17.865Z"
   },
   {
    "duration": 6,
    "start_time": "2023-07-01T06:34:17.878Z"
   },
   {
    "duration": 16,
    "start_time": "2023-07-01T06:34:17.886Z"
   },
   {
    "duration": 5,
    "start_time": "2023-07-01T06:34:17.904Z"
   },
   {
    "duration": 6,
    "start_time": "2023-07-01T06:34:17.911Z"
   },
   {
    "duration": 123,
    "start_time": "2023-07-01T06:35:34.102Z"
   },
   {
    "duration": 18,
    "start_time": "2023-07-01T06:35:54.843Z"
   },
   {
    "duration": 52,
    "start_time": "2023-07-01T06:36:06.394Z"
   },
   {
    "duration": 12,
    "start_time": "2023-07-01T06:37:19.218Z"
   },
   {
    "duration": 16,
    "start_time": "2023-07-01T06:37:32.427Z"
   },
   {
    "duration": 2210,
    "start_time": "2023-07-01T06:39:04.154Z"
   },
   {
    "duration": 5,
    "start_time": "2023-07-01T06:39:06.366Z"
   },
   {
    "duration": 49,
    "start_time": "2023-07-01T06:39:06.373Z"
   },
   {
    "duration": 19,
    "start_time": "2023-07-01T06:39:06.424Z"
   },
   {
    "duration": 25,
    "start_time": "2023-07-01T06:39:06.444Z"
   },
   {
    "duration": 22,
    "start_time": "2023-07-01T06:39:06.470Z"
   },
   {
    "duration": 50,
    "start_time": "2023-07-01T06:39:06.494Z"
   },
   {
    "duration": 6,
    "start_time": "2023-07-01T06:39:06.546Z"
   },
   {
    "duration": 21,
    "start_time": "2023-07-01T06:39:06.554Z"
   },
   {
    "duration": 15,
    "start_time": "2023-07-01T06:39:06.577Z"
   },
   {
    "duration": 8,
    "start_time": "2023-07-01T06:39:06.593Z"
   },
   {
    "duration": 20,
    "start_time": "2023-07-01T06:39:06.602Z"
   },
   {
    "duration": 12,
    "start_time": "2023-07-01T06:39:06.624Z"
   },
   {
    "duration": 20,
    "start_time": "2023-07-01T06:39:06.638Z"
   },
   {
    "duration": 26,
    "start_time": "2023-07-01T06:39:06.660Z"
   },
   {
    "duration": 23,
    "start_time": "2023-07-01T06:39:06.688Z"
   },
   {
    "duration": 9,
    "start_time": "2023-07-01T06:39:06.713Z"
   },
   {
    "duration": 28,
    "start_time": "2023-07-01T06:39:06.724Z"
   },
   {
    "duration": 5,
    "start_time": "2023-07-01T06:39:06.754Z"
   },
   {
    "duration": 53,
    "start_time": "2023-07-01T06:39:06.761Z"
   },
   {
    "duration": 45,
    "start_time": "2023-07-01T06:39:06.816Z"
   },
   {
    "duration": 4,
    "start_time": "2023-07-01T06:39:06.862Z"
   },
   {
    "duration": 54313,
    "start_time": "2023-07-01T06:39:06.867Z"
   },
   {
    "duration": 6,
    "start_time": "2023-07-01T06:40:01.182Z"
   },
   {
    "duration": 72,
    "start_time": "2023-07-01T06:40:01.189Z"
   },
   {
    "duration": 40,
    "start_time": "2023-07-01T06:40:01.264Z"
   },
   {
    "duration": 104,
    "start_time": "2023-07-01T06:40:01.306Z"
   },
   {
    "duration": 4,
    "start_time": "2023-07-01T06:40:01.414Z"
   },
   {
    "duration": 229,
    "start_time": "2023-07-01T06:40:01.420Z"
   },
   {
    "duration": 3,
    "start_time": "2023-07-01T06:40:01.651Z"
   },
   {
    "duration": 728,
    "start_time": "2023-07-01T06:40:01.656Z"
   },
   {
    "duration": 5,
    "start_time": "2023-07-01T06:40:02.435Z"
   },
   {
    "duration": 45,
    "start_time": "2023-07-01T06:40:02.444Z"
   },
   {
    "duration": 34,
    "start_time": "2023-07-01T06:40:02.491Z"
   },
   {
    "duration": 159,
    "start_time": "2023-07-01T06:40:02.526Z"
   },
   {
    "duration": 3,
    "start_time": "2023-07-01T06:40:02.687Z"
   },
   {
    "duration": 950,
    "start_time": "2023-07-01T06:40:02.692Z"
   },
   {
    "duration": 3,
    "start_time": "2023-07-01T06:40:03.644Z"
   },
   {
    "duration": 30,
    "start_time": "2023-07-01T06:40:03.649Z"
   },
   {
    "duration": 58,
    "start_time": "2023-07-01T06:40:03.682Z"
   },
   {
    "duration": 395,
    "start_time": "2023-07-01T06:40:03.747Z"
   },
   {
    "duration": 339,
    "start_time": "2023-07-01T06:40:04.144Z"
   },
   {
    "duration": 170,
    "start_time": "2023-07-01T06:40:04.485Z"
   },
   {
    "duration": 41,
    "start_time": "2023-07-01T06:40:04.656Z"
   },
   {
    "duration": 171,
    "start_time": "2023-07-01T06:40:04.700Z"
   },
   {
    "duration": 73,
    "start_time": "2023-07-01T06:40:04.872Z"
   },
   {
    "duration": 358,
    "start_time": "2023-07-01T06:40:04.947Z"
   },
   {
    "duration": 4,
    "start_time": "2023-07-01T06:40:05.307Z"
   },
   {
    "duration": 31,
    "start_time": "2023-07-01T06:40:05.313Z"
   },
   {
    "duration": 8,
    "start_time": "2023-07-01T06:40:05.346Z"
   },
   {
    "duration": 483,
    "start_time": "2023-07-01T06:40:05.355Z"
   },
   {
    "duration": 148,
    "start_time": "2023-07-01T06:40:05.840Z"
   },
   {
    "duration": 55,
    "start_time": "2023-07-01T06:40:05.990Z"
   },
   {
    "duration": 195,
    "start_time": "2023-07-01T06:40:06.049Z"
   },
   {
    "duration": 30,
    "start_time": "2023-07-01T06:40:06.251Z"
   },
   {
    "duration": 358,
    "start_time": "2023-07-01T06:40:06.347Z"
   },
   {
    "duration": 10,
    "start_time": "2023-07-01T06:40:06.707Z"
   },
   {
    "duration": 31,
    "start_time": "2023-07-01T06:40:06.718Z"
   },
   {
    "duration": 197,
    "start_time": "2023-07-01T06:40:06.752Z"
   },
   {
    "duration": 144,
    "start_time": "2023-07-01T06:40:06.950Z"
   },
   {
    "duration": 25,
    "start_time": "2023-07-01T06:40:07.097Z"
   },
   {
    "duration": 138,
    "start_time": "2023-07-01T06:40:07.134Z"
   },
   {
    "duration": 74,
    "start_time": "2023-07-01T06:40:07.274Z"
   },
   {
    "duration": 366,
    "start_time": "2023-07-01T06:40:07.350Z"
   },
   {
    "duration": 473,
    "start_time": "2023-07-01T06:40:07.718Z"
   },
   {
    "duration": 144,
    "start_time": "2023-07-01T06:40:08.193Z"
   },
   {
    "duration": 4,
    "start_time": "2023-07-01T07:14:52.540Z"
   },
   {
    "duration": 158,
    "start_time": "2023-07-01T07:26:46.998Z"
   },
   {
    "duration": 5,
    "start_time": "2023-07-01T07:26:52.890Z"
   },
   {
    "duration": 5,
    "start_time": "2023-07-01T07:28:31.181Z"
   },
   {
    "duration": 224,
    "start_time": "2023-07-01T07:28:34.015Z"
   },
   {
    "duration": 5,
    "start_time": "2023-07-01T07:29:29.400Z"
   },
   {
    "duration": 130,
    "start_time": "2023-07-01T07:29:31.714Z"
   },
   {
    "duration": 4,
    "start_time": "2023-07-01T07:29:45.307Z"
   },
   {
    "duration": 5,
    "start_time": "2023-07-01T07:29:54.080Z"
   },
   {
    "duration": 1583,
    "start_time": "2023-07-01T07:29:55.370Z"
   },
   {
    "duration": 5,
    "start_time": "2023-07-01T07:32:08.955Z"
   },
   {
    "duration": 15390,
    "start_time": "2023-07-01T07:32:11.415Z"
   },
   {
    "duration": 15185,
    "start_time": "2023-07-01T07:33:10.907Z"
   },
   {
    "duration": 5,
    "start_time": "2023-07-01T07:34:39.643Z"
   },
   {
    "duration": 15543,
    "start_time": "2023-07-01T07:34:47.831Z"
   },
   {
    "duration": 4,
    "start_time": "2023-07-01T07:35:34.339Z"
   },
   {
    "duration": 11387,
    "start_time": "2023-07-01T07:35:38.123Z"
   },
   {
    "duration": 5,
    "start_time": "2023-07-01T07:37:49.447Z"
   },
   {
    "duration": 99,
    "start_time": "2023-07-01T07:37:50.486Z"
   },
   {
    "duration": 5,
    "start_time": "2023-07-01T07:38:05.490Z"
   },
   {
    "duration": 92,
    "start_time": "2023-07-01T07:38:07.747Z"
   },
   {
    "duration": 4,
    "start_time": "2023-07-01T07:38:16.794Z"
   },
   {
    "duration": 65513,
    "start_time": "2023-07-01T07:38:18.609Z"
   },
   {
    "duration": 4,
    "start_time": "2023-07-01T07:39:29.784Z"
   },
   {
    "duration": 73859,
    "start_time": "2023-07-01T07:39:30.595Z"
   },
   {
    "duration": 4,
    "start_time": "2023-07-01T07:41:41.182Z"
   },
   {
    "duration": 75720,
    "start_time": "2023-07-01T07:41:42.295Z"
   },
   {
    "duration": 4,
    "start_time": "2023-07-01T07:44:00.894Z"
   },
   {
    "duration": 75072,
    "start_time": "2023-07-01T07:44:02.994Z"
   },
   {
    "duration": 75512,
    "start_time": "2023-07-01T07:46:05.286Z"
   },
   {
    "duration": 3,
    "start_time": "2023-07-01T07:48:54.401Z"
   },
   {
    "duration": 34,
    "start_time": "2023-07-01T07:48:56.602Z"
   },
   {
    "duration": 4,
    "start_time": "2023-07-01T07:49:16.245Z"
   },
   {
    "duration": 128,
    "start_time": "2023-07-01T07:49:18.345Z"
   },
   {
    "duration": 3,
    "start_time": "2023-07-01T07:53:25.405Z"
   },
   {
    "duration": 702,
    "start_time": "2023-07-01T07:53:34.134Z"
   },
   {
    "duration": 10,
    "start_time": "2023-07-01T07:54:51.841Z"
   },
   {
    "duration": 113,
    "start_time": "2023-07-01T07:55:01.140Z"
   },
   {
    "duration": 18,
    "start_time": "2023-07-01T07:57:49.543Z"
   },
   {
    "duration": 15,
    "start_time": "2023-07-01T07:57:57.914Z"
   },
   {
    "duration": 249,
    "start_time": "2023-07-01T07:58:03.483Z"
   },
   {
    "duration": 4,
    "start_time": "2023-07-01T08:09:40.551Z"
   },
   {
    "duration": 72864,
    "start_time": "2023-07-01T08:09:42.312Z"
   },
   {
    "duration": 3,
    "start_time": "2023-07-01T08:11:09.089Z"
   },
   {
    "duration": 34,
    "start_time": "2023-07-01T08:11:10.052Z"
   },
   {
    "duration": 5,
    "start_time": "2023-07-01T08:11:12.772Z"
   },
   {
    "duration": 160,
    "start_time": "2023-07-01T08:11:13.352Z"
   },
   {
    "duration": 2,
    "start_time": "2023-07-01T08:11:16.620Z"
   },
   {
    "duration": 4,
    "start_time": "2023-07-01T08:11:17.090Z"
   },
   {
    "duration": 677,
    "start_time": "2023-07-01T08:11:19.012Z"
   },
   {
    "duration": 10,
    "start_time": "2023-07-01T08:11:28.336Z"
   },
   {
    "duration": 106,
    "start_time": "2023-07-01T08:11:31.060Z"
   },
   {
    "duration": 4,
    "start_time": "2023-07-01T08:14:26.791Z"
   },
   {
    "duration": 71533,
    "start_time": "2023-07-01T08:14:34.940Z"
   },
   {
    "duration": 94,
    "start_time": "2023-07-01T08:16:52.391Z"
   },
   {
    "duration": 29,
    "start_time": "2023-07-01T08:16:57.301Z"
   },
   {
    "duration": 147,
    "start_time": "2023-07-01T08:17:10.885Z"
   },
   {
    "duration": 746,
    "start_time": "2023-07-01T08:18:47.486Z"
   },
   {
    "duration": 11,
    "start_time": "2023-07-01T08:19:47.092Z"
   },
   {
    "duration": 119,
    "start_time": "2023-07-01T08:20:17.266Z"
   },
   {
    "duration": 23,
    "start_time": "2023-07-01T08:21:03.377Z"
   },
   {
    "duration": 56,
    "start_time": "2023-07-01T08:21:14.699Z"
   },
   {
    "duration": 294,
    "start_time": "2023-07-01T08:21:19.444Z"
   },
   {
    "duration": 99393,
    "start_time": "2023-07-01T08:26:58.319Z"
   },
   {
    "duration": 27,
    "start_time": "2023-07-01T08:30:13.448Z"
   },
   {
    "duration": 100775,
    "start_time": "2023-07-01T08:30:56.650Z"
   },
   {
    "duration": 30,
    "start_time": "2023-07-01T08:32:50.726Z"
   },
   {
    "duration": 141,
    "start_time": "2023-07-01T08:32:56.746Z"
   },
   {
    "duration": 905,
    "start_time": "2023-07-01T08:34:13.907Z"
   },
   {
    "duration": 12,
    "start_time": "2023-07-01T08:35:07.725Z"
   },
   {
    "duration": 109,
    "start_time": "2023-07-01T08:35:21.296Z"
   },
   {
    "duration": 93,
    "start_time": "2023-07-01T08:35:43.845Z"
   },
   {
    "duration": 50,
    "start_time": "2023-07-01T08:35:56.581Z"
   },
   {
    "duration": 228,
    "start_time": "2023-07-01T08:36:08.884Z"
   },
   {
    "duration": 40631,
    "start_time": "2023-07-01T08:41:16.326Z"
   },
   {
    "duration": 30,
    "start_time": "2023-07-01T08:43:39.455Z"
   },
   {
    "duration": 123,
    "start_time": "2023-07-01T08:43:41.783Z"
   },
   {
    "duration": 334,
    "start_time": "2023-07-01T08:44:53.550Z"
   },
   {
    "duration": 11,
    "start_time": "2023-07-01T08:45:08.618Z"
   },
   {
    "duration": 108,
    "start_time": "2023-07-01T08:45:15.655Z"
   },
   {
    "duration": 22,
    "start_time": "2023-07-01T08:45:31.235Z"
   },
   {
    "duration": 294,
    "start_time": "2023-07-01T08:45:36.418Z"
   },
   {
    "duration": 9,
    "start_time": "2023-07-01T08:59:03.992Z"
   },
   {
    "duration": 277,
    "start_time": "2023-07-01T08:59:11.089Z"
   },
   {
    "duration": 243,
    "start_time": "2023-07-01T09:03:25.194Z"
   },
   {
    "duration": 264,
    "start_time": "2023-07-01T09:03:56.090Z"
   },
   {
    "duration": 272,
    "start_time": "2023-07-01T09:10:16.843Z"
   },
   {
    "duration": 196,
    "start_time": "2023-07-01T09:10:35.888Z"
   },
   {
    "duration": 4,
    "start_time": "2023-07-01T09:18:24.911Z"
   },
   {
    "duration": 7,
    "start_time": "2023-07-01T09:18:40.479Z"
   },
   {
    "duration": 2364,
    "start_time": "2023-07-01T09:37:06.276Z"
   },
   {
    "duration": 1335,
    "start_time": "2023-07-01T09:37:08.643Z"
   },
   {
    "duration": 41,
    "start_time": "2023-07-01T09:37:09.980Z"
   },
   {
    "duration": 14,
    "start_time": "2023-07-01T09:37:10.024Z"
   },
   {
    "duration": 21,
    "start_time": "2023-07-01T09:37:10.040Z"
   },
   {
    "duration": 14,
    "start_time": "2023-07-01T09:37:10.062Z"
   },
   {
    "duration": 61,
    "start_time": "2023-07-01T09:37:10.078Z"
   },
   {
    "duration": 6,
    "start_time": "2023-07-01T09:37:10.141Z"
   },
   {
    "duration": 30,
    "start_time": "2023-07-01T09:37:10.148Z"
   },
   {
    "duration": 18,
    "start_time": "2023-07-01T09:37:10.180Z"
   },
   {
    "duration": 10,
    "start_time": "2023-07-01T09:37:10.199Z"
   },
   {
    "duration": 11,
    "start_time": "2023-07-01T09:37:10.210Z"
   },
   {
    "duration": 11,
    "start_time": "2023-07-01T09:37:10.222Z"
   },
   {
    "duration": 4,
    "start_time": "2023-07-01T09:37:10.234Z"
   },
   {
    "duration": 10,
    "start_time": "2023-07-01T09:37:10.240Z"
   },
   {
    "duration": 7,
    "start_time": "2023-07-01T09:37:10.252Z"
   },
   {
    "duration": 4,
    "start_time": "2023-07-01T09:37:10.260Z"
   },
   {
    "duration": 7,
    "start_time": "2023-07-01T09:37:10.266Z"
   },
   {
    "duration": 9,
    "start_time": "2023-07-01T09:37:10.274Z"
   },
   {
    "duration": 58,
    "start_time": "2023-07-01T09:37:10.285Z"
   },
   {
    "duration": 35,
    "start_time": "2023-07-01T09:37:10.345Z"
   },
   {
    "duration": 2,
    "start_time": "2023-07-01T09:37:10.382Z"
   },
   {
    "duration": 5,
    "start_time": "2023-07-01T09:37:10.386Z"
   },
   {
    "duration": 72320,
    "start_time": "2023-07-01T09:37:10.393Z"
   },
   {
    "duration": 3,
    "start_time": "2023-07-01T09:38:22.715Z"
   },
   {
    "duration": 47,
    "start_time": "2023-07-01T09:38:22.719Z"
   },
   {
    "duration": 4,
    "start_time": "2023-07-01T09:38:22.768Z"
   },
   {
    "duration": 172,
    "start_time": "2023-07-01T09:38:22.776Z"
   },
   {
    "duration": 3,
    "start_time": "2023-07-01T09:38:22.950Z"
   },
   {
    "duration": 11,
    "start_time": "2023-07-01T09:38:22.954Z"
   },
   {
    "duration": 715,
    "start_time": "2023-07-01T09:38:22.966Z"
   },
   {
    "duration": 11,
    "start_time": "2023-07-01T09:38:23.683Z"
   },
   {
    "duration": 128,
    "start_time": "2023-07-01T09:38:23.696Z"
   },
   {
    "duration": 21,
    "start_time": "2023-07-01T09:38:23.825Z"
   },
   {
    "duration": 84,
    "start_time": "2023-07-01T09:38:23.848Z"
   },
   {
    "duration": 278,
    "start_time": "2023-07-01T09:38:23.936Z"
   },
   {
    "duration": 72758,
    "start_time": "2023-07-01T09:38:24.215Z"
   },
   {
    "duration": 28,
    "start_time": "2023-07-01T09:39:36.974Z"
   },
   {
    "duration": 138,
    "start_time": "2023-07-01T09:39:37.004Z"
   },
   {
    "duration": 714,
    "start_time": "2023-07-01T09:39:37.144Z"
   },
   {
    "duration": 10,
    "start_time": "2023-07-01T09:39:37.860Z"
   },
   {
    "duration": 120,
    "start_time": "2023-07-01T09:39:37.872Z"
   },
   {
    "duration": 39,
    "start_time": "2023-07-01T09:39:37.994Z"
   },
   {
    "duration": 99,
    "start_time": "2023-07-01T09:39:38.035Z"
   },
   {
    "duration": 10,
    "start_time": "2023-07-01T09:39:38.136Z"
   },
   {
    "duration": 27,
    "start_time": "2023-07-01T09:39:38.147Z"
   },
   {
    "duration": 98550,
    "start_time": "2023-07-01T09:39:38.176Z"
   },
   {
    "duration": 21,
    "start_time": "2023-07-01T09:41:16.731Z"
   },
   {
    "duration": 145,
    "start_time": "2023-07-01T09:41:16.753Z"
   },
   {
    "duration": 883,
    "start_time": "2023-07-01T09:41:16.901Z"
   },
   {
    "duration": 11,
    "start_time": "2023-07-01T09:41:17.785Z"
   },
   {
    "duration": 136,
    "start_time": "2023-07-01T09:41:17.798Z"
   },
   {
    "duration": 102,
    "start_time": "2023-07-01T09:41:17.936Z"
   },
   {
    "duration": 381,
    "start_time": "2023-07-01T09:41:18.041Z"
   },
   {
    "duration": 11,
    "start_time": "2023-07-01T09:41:18.431Z"
   },
   {
    "duration": 12,
    "start_time": "2023-07-01T09:41:18.444Z"
   },
   {
    "duration": 39922,
    "start_time": "2023-07-01T09:41:18.458Z"
   },
   {
    "duration": 29,
    "start_time": "2023-07-01T09:41:58.381Z"
   },
   {
    "duration": 140,
    "start_time": "2023-07-01T09:41:58.412Z"
   },
   {
    "duration": 332,
    "start_time": "2023-07-01T09:41:58.553Z"
   },
   {
    "duration": 9,
    "start_time": "2023-07-01T09:41:58.887Z"
   },
   {
    "duration": 117,
    "start_time": "2023-07-01T09:41:58.897Z"
   },
   {
    "duration": 119,
    "start_time": "2023-07-01T09:41:59.015Z"
   },
   {
    "duration": 352,
    "start_time": "2023-07-01T09:41:59.136Z"
   },
   {
    "duration": 276,
    "start_time": "2023-07-01T09:41:59.490Z"
   },
   {
    "duration": 123,
    "start_time": "2023-07-01T09:41:59.767Z"
   },
   {
    "duration": 6,
    "start_time": "2023-07-01T09:41:59.891Z"
   }
  ],
  "kernelspec": {
   "display_name": "Python 3 (ipykernel)",
   "language": "python",
   "name": "python3"
  },
  "language_info": {
   "codemirror_mode": {
    "name": "ipython",
    "version": 3
   },
   "file_extension": ".py",
   "mimetype": "text/x-python",
   "name": "python",
   "nbconvert_exporter": "python",
   "pygments_lexer": "ipython3",
   "version": "3.9.15"
  },
  "toc": {
   "base_numbering": 1,
   "nav_menu": {},
   "number_sections": true,
   "sideBar": true,
   "skip_h1_title": true,
   "title_cell": "Содержание",
   "title_sidebar": "Contents",
   "toc_cell": true,
   "toc_position": {
    "height": "calc(100% - 180px)",
    "left": "10px",
    "top": "150px",
    "width": "357.797px"
   },
   "toc_section_display": true,
   "toc_window_display": false
  }
 },
 "nbformat": 4,
 "nbformat_minor": 2
}
